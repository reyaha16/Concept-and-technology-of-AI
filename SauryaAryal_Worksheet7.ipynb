{
  "nbformat": 4,
  "nbformat_minor": 0,
  "metadata": {
    "colab": {
      "provenance": []
    },
    "kernelspec": {
      "name": "python3",
      "display_name": "Python 3"
    },
    "language_info": {
      "name": "python"
    }
  },
  "cells": [
    {
      "cell_type": "markdown",
      "source": [
        "##Implementation of KNN"
      ],
      "metadata": {
        "id": "MX8T1N2-O41Q"
      }
    },
    {
      "cell_type": "code",
      "execution_count": 24,
      "metadata": {
        "colab": {
          "base_uri": "https://localhost:8080/",
          "height": 0
        },
        "id": "OJhp_h9xGAVu",
        "outputId": "6df7969c-9030-4345-e5e2-9dd4886ec119"
      },
      "outputs": [
        {
          "output_type": "stream",
          "name": "stdout",
          "text": [
            "KNN Accuracy: 0.6460843373493976\n"
          ]
        }
      ],
      "source": [
        "# Load the dataset\n",
        "import pandas as pd\n",
        "from sklearn.neighbors import KNeighborsClassifier\n",
        "from sklearn.model_selection import train_test_split\n",
        "from sklearn.metrics import accuracy_score\n",
        "\n",
        "file_path = '/content/drive/MyDrive/Concept of AI/Students_prediction.csv'\n",
        "data = pd.read_csv(file_path)\n",
        "\n",
        "data.head()\n",
        "# Prepare data\n",
        "X = data.drop(columns=['Target'])  # Features\n",
        "y = data['Target']  # Target label\n",
        "\n",
        "# Encode categorical labels if needed\n",
        "y = y.map({'Graduate': 1, 'Dropout': 0})  # Convert Target to numeric\n",
        "\n",
        "# Drop rows with NaN values in the target variable\n",
        "data = data.dropna(subset=['Target'])  # Drop rows where 'Target' is NaN\n",
        "\n",
        "# Update X and y after dropping rows\n",
        "X = data.drop(columns=['Target'])\n",
        "y = data['Target']\n",
        "\n",
        "# Split into training and testing data\n",
        "X_train, X_test, y_train, y_test = train_test_split(X, y, test_size=0.3, random_state=42)\n",
        "\n",
        "# Train KNN\n",
        "knn = KNeighborsClassifier(n_neighbors=4)\n",
        "knn.fit(X_train, y_train)\n",
        "\n",
        "# Predict and evaluate\n",
        "y_pred = knn.predict(X_test)\n",
        "accuracy = accuracy_score(y_test, y_pred)\n",
        "print(\"KNN Accuracy:\", accuracy)"
      ]
    },
    {
      "cell_type": "markdown",
      "source": [
        "## Implementation of Linear Regression"
      ],
      "metadata": {
        "id": "y37DC1CrO_7J"
      }
    },
    {
      "cell_type": "code",
      "source": [
        "from sklearn.linear_model import LinearRegression\n",
        "from sklearn.metrics import mean_squared_error, r2_score\n",
        "\n",
        "# Prepare data\n",
        "X = data.drop(columns=['Curricular units 2nd sem (grade)', 'Target'])\n",
        "y = data['Curricular units 2nd sem (grade)']\n",
        "\n",
        "# Split into training and testing data\n",
        "X_train, X_test, y_train, y_test = train_test_split(X, y, test_size=0.2, random_state=42)\n",
        "\n",
        "# Train Linear Regression\n",
        "model = LinearRegression()\n",
        "model.fit(X_train, y_train)\n",
        "\n",
        "# Predict and evaluate\n",
        "y_pred = model.predict(X_test)\n",
        "mse = mean_squared_error(y_test, y_pred)\n",
        "r2 = r2_score(y_test, y_pred)\n",
        "print(\"Linear Regression MSE:\", mse)\n",
        "print(\"Linear Regression R2:\", r2)"
      ],
      "metadata": {
        "colab": {
          "base_uri": "https://localhost:8080/",
          "height": 0
        },
        "id": "9R5n4Ys7G_FB",
        "outputId": "1e694ed1-6082-4f6b-e78f-0c23bf8a3832"
      },
      "execution_count": 25,
      "outputs": [
        {
          "output_type": "stream",
          "name": "stdout",
          "text": [
            "Linear Regression MSE: 5.172643819227477\n",
            "Linear Regression R2: 0.8089438376228192\n"
          ]
        }
      ]
    },
    {
      "cell_type": "markdown",
      "source": [
        "## Implementation of Logistic Regression"
      ],
      "metadata": {
        "id": "AG7YSa_wPHzJ"
      }
    },
    {
      "cell_type": "code",
      "source": [
        "# Load the dataset\n",
        "import pandas as pd\n",
        "from sklearn.linear_model import LogisticRegression\n",
        "from sklearn.model_selection import train_test_split\n",
        "from sklearn.metrics import accuracy_score, classification_report, confusion_matrix\n",
        "\n",
        "# Load the dataset\n",
        "file_path = '/content/drive/MyDrive/Concept of AI/Students_prediction.csv'\n",
        "data = pd.read_csv(file_path)\n",
        "\n",
        "# Ensure 'Target' column has no NaNs before mapping\n",
        "data = data.dropna(subset=['Target'])  # Drop rows where 'Target' is NaN\n",
        "\n",
        "# Map 'Target' to numeric values\n",
        "data['Target'] = data['Target'].map({'Graduate': 1, 'Dropout': 0})\n",
        "\n",
        "# Features (X) and Target (y)\n",
        "X = data.drop(columns=['Target'])\n",
        "y = data['Target']\n",
        "\n",
        "# Fill NaN values in features (X) with the mean of each column\n",
        "X = X.fillna(X.mean())\n",
        "\n",
        "# Split the data into training and testing sets\n",
        "X_train, X_test, y_train, y_test = train_test_split(X, y, test_size=0.2, random_state=42)\n",
        "\n",
        "#  Remove or impute NaN values in y_train and y_test\n",
        "# Here, we will remove rows with NaN in y_train and y_test\n",
        "X_train = X_train[y_train.notna()] # Select rows in X_train where y_train is not NaN\n",
        "y_train = y_train[y_train.notna()] # Select corresponding rows in y_train\n",
        "X_test = X_test[y_test.notna()] # Select rows in X_test where y_test is not NaN\n",
        "y_test = y_test[y_test.notna()] # Select corresponding rows in y_test\n",
        "\n",
        "\n",
        "# Train the Logistic Regression model\n",
        "logreg = LogisticRegression(max_iter=1000)\n",
        "logreg.fit(X_train, y_train)\n",
        "\n",
        "# Make predictions\n",
        "y_pred = logreg.predict(X_test)\n",
        "\n",
        "# Evaluate the model\n",
        "accuracy = accuracy_score(y_test, y_pred)\n",
        "conf_matrix = confusion_matrix(y_test, y_pred)\n",
        "class_report = classification_report(y_test, y_pred)\n",
        "\n",
        "# Print evaluation metrics\n",
        "print(f\"Logistic Regression Accuracy: {accuracy}\")\n",
        "print(\"Confusion Matrix:\")\n",
        "print(conf_matrix)\n",
        "print(\"Classification Report:\")\n",
        "print(class_report)"
      ],
      "metadata": {
        "colab": {
          "base_uri": "https://localhost:8080/",
          "height": 0
        },
        "id": "ReVoHBOsLCHl",
        "outputId": "3dca9532-6a36-407f-8633-2c6d18ab1b6f"
      },
      "execution_count": 40,
      "outputs": [
        {
          "output_type": "stream",
          "name": "stdout",
          "text": [
            "Logistic Regression Accuracy: 0.9032697547683923\n",
            "Confusion Matrix:\n",
            "[[266  50]\n",
            " [ 21 397]]\n",
            "Classification Report:\n",
            "              precision    recall  f1-score   support\n",
            "\n",
            "         0.0       0.93      0.84      0.88       316\n",
            "         1.0       0.89      0.95      0.92       418\n",
            "\n",
            "    accuracy                           0.90       734\n",
            "   macro avg       0.91      0.90      0.90       734\n",
            "weighted avg       0.90      0.90      0.90       734\n",
            "\n"
          ]
        }
      ]
    }
  ]
}