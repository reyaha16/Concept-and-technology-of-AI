{
  "nbformat": 4,
  "nbformat_minor": 0,
  "metadata": {
    "colab": {
      "provenance": []
    },
    "kernelspec": {
      "name": "python3",
      "display_name": "Python 3"
    },
    "language_info": {
      "name": "python"
    }
  },
  "cells": [
    {
      "cell_type": "markdown",
      "source": [
        "#Warm Up Exercises:"
      ],
      "metadata": {
        "id": "T79YmH9h_KjJ"
      }
    },
    {
      "cell_type": "markdown",
      "source": [
        "##1. Sorting and Subsetting:\n",
        "Complete all following Task:\n",
        "• Dataset for the Task: \"titanic.csv\"\n",
        "Following task is common for all the problem:\n",
        "1. Load the provided dataset and import in pandas DataFrame.\n",
        "2. Check info of the DataFrame and identify following:"
      ],
      "metadata": {
        "id": "LZFfeGjF_ZXw"
      }
    },
    {
      "cell_type": "markdown",
      "source": [
        "###Problem 1 - Sorting:\n",
        "1. Create a DataFrame called fare that contains only the Fare column of the Titanic dataset. Print the\n",
        "head of the result.\n",
        "\n",
        "2. Create a DataFrame called class age that contains only the Pclass and Age columns of the Titanic\n",
        "dataset, in that order. Print the head of the result.\n",
        "\n",
        "3. Create a DataFrame called survived gender that contains the Survived and Sex columns of the\n",
        "Titanic dataset, in that order.Print the head of the result."
      ],
      "metadata": {
        "id": "SqpGmAae_fo4"
      }
    },
    {
      "cell_type": "code",
      "execution_count": 5,
      "metadata": {
        "id": "SY-up6pg7iLg",
        "outputId": "b7a68752-c137-431a-82d3-854ab8794bc1",
        "colab": {
          "base_uri": "https://localhost:8080/"
        }
      },
      "outputs": [
        {
          "output_type": "stream",
          "name": "stdout",
          "text": [
            "Dataset Information:\n",
            "<class 'pandas.core.frame.DataFrame'>\n",
            "RangeIndex: 891 entries, 0 to 890\n",
            "Data columns (total 12 columns):\n",
            " #   Column       Non-Null Count  Dtype  \n",
            "---  ------       --------------  -----  \n",
            " 0   PassengerId  891 non-null    int64  \n",
            " 1   Survived     891 non-null    int64  \n",
            " 2   Pclass       891 non-null    int64  \n",
            " 3   Name         891 non-null    object \n",
            " 4   Sex          891 non-null    object \n",
            " 5   Age          714 non-null    float64\n",
            " 6   SibSp        891 non-null    int64  \n",
            " 7   Parch        891 non-null    int64  \n",
            " 8   Ticket       891 non-null    object \n",
            " 9   Fare         891 non-null    float64\n",
            " 10  Cabin        204 non-null    object \n",
            " 11  Embarked     889 non-null    object \n",
            "dtypes: float64(2), int64(5), object(5)\n",
            "memory usage: 83.7+ KB\n",
            "None\n",
            "\n",
            "Preview of the dataset:\n",
            "   PassengerId  Survived  Pclass  \\\n",
            "0            1         0       3   \n",
            "1            2         1       1   \n",
            "2            3         1       3   \n",
            "3            4         1       1   \n",
            "4            5         0       3   \n",
            "\n",
            "                                                Name     Sex   Age  SibSp  \\\n",
            "0                            Braund, Mr. Owen Harris    male  22.0      1   \n",
            "1  Cumings, Mrs. John Bradley (Florence Briggs Th...  female  38.0      1   \n",
            "2                             Heikkinen, Miss. Laina  female  26.0      0   \n",
            "3       Futrelle, Mrs. Jacques Heath (Lily May Peel)  female  35.0      1   \n",
            "4                           Allen, Mr. William Henry    male  35.0      0   \n",
            "\n",
            "   Parch            Ticket     Fare Cabin Embarked  \n",
            "0      0         A/5 21171   7.2500   NaN        S  \n",
            "1      0          PC 17599  71.2833   C85        C  \n",
            "2      0  STON/O2. 3101282   7.9250   NaN        S  \n",
            "3      0            113803  53.1000  C123        S  \n",
            "4      0            373450   8.0500   NaN        S  \n",
            "\n",
            "DataFrame with only the 'Fare' column:\n",
            "      Fare\n",
            "0   7.2500\n",
            "1  71.2833\n",
            "2   7.9250\n",
            "3  53.1000\n",
            "4   8.0500\n",
            "\n",
            "DataFrame with 'Pclass' and 'Age' columns:\n",
            "   Pclass   Age\n",
            "0       3  22.0\n",
            "1       1  38.0\n",
            "2       3  26.0\n",
            "3       1  35.0\n",
            "4       3  35.0\n",
            "\n",
            "DataFrame with 'Survived' and 'Sex' columns:\n",
            "   Survived     Sex\n",
            "0         0    male\n",
            "1         1  female\n",
            "2         1  female\n",
            "3         1  female\n",
            "4         0    male\n"
          ]
        }
      ],
      "source": [
        "import pandas as pd\n",
        "titanic_df = pd.read_csv(\"/content/drive/MyDrive/Concept of AI/Titanic-Dataset.csv\")\n",
        "\n",
        "print(\"Dataset Information:\")\n",
        "print(titanic_df.info())\n",
        "\n",
        "print(\"\\nPreview of the dataset:\")\n",
        "print(titanic_df.head())\n",
        "\n",
        "fare = titanic_df[['Fare']]\n",
        "print(\"\\nDataFrame with only the 'Fare' column:\")\n",
        "print(fare.head())\n",
        "\n",
        "class_age = titanic_df[['Pclass', 'Age']]\n",
        "print(\"\\nDataFrame with 'Pclass' and 'Age' columns:\")\n",
        "print(class_age.head())\n",
        "\n",
        "survived_gender = titanic_df[['Survived', 'Sex']]\n",
        "print(\"\\nDataFrame with 'Survived' and 'Sex' columns:\")\n",
        "print(survived_gender.head())\n",
        "\n",
        "\n"
      ]
    },
    {
      "cell_type": "markdown",
      "source": [
        "###Problem - 2 - Subsetting:\n",
        "Complete all the following Task:\n",
        "Subsetting Rows:\n",
        "\n",
        "1. Filter the Titanic dataset for cases where the passenger’s fare is greater than 100, assigning it\n",
        "to fare gt 100.View the printed result.\n",
        "\n",
        "2. Filter the Titanic dataset for cases where the passenger’s class (Pclass) is 1, assigning it to\n",
        "first class.View the printed result.\n",
        "\n",
        "3. Filter the Titanic dataset for cases where the passenger’s age is less than 18 and the passenger\n",
        "is female (Sex is \"female\"), assigning it to female under 18. View the printed result.\n",
        "\n",
        "Subsetting Rows by Categorical variables:\n",
        "\n",
        "1. Filter the Titanic dataset for passengers whose Embarked port is either \"C\" (Cherbourg) or \"S\"\n",
        "(Southampton), assigning the result to embarked c or s. View the printed result.\n",
        "\n",
        "2. Filter the Titanic dataset for passengers whose Pclass is in the list [1, 2] (indicating first\n",
        "or second class), assigning the result to first second class.View the printed result."
      ],
      "metadata": {
        "id": "AzEaEIIuAVGA"
      }
    },
    {
      "cell_type": "code",
      "source": [
        "fare_gt_100 = titanic_df[titanic_df['Fare'] > 100]\n",
        "print(\"\\nPassengers with fare > 100:\")\n",
        "print(fare_gt_100.head())\n",
        "first_class = titanic_df[titanic_df['Pclass'] == 1]\n",
        "print(\"\\nPassengers in first class (Pclass = 1):\")\n",
        "print(first_class.head())\n",
        "female_under_18 = titanic_df[(titanic_df['Age'] < 18) & (titanic_df['Sex'] == \"female\")]\n",
        "print(\"\\nFemale passengers under 18:\")\n",
        "print(female_under_18.head())\n",
        "embarked_c_or_s = titanic_df[titanic_df['Embarked'].isin(['C', 'S'])]\n",
        "print(\"\\nPassengers who embarked at 'C' or 'S':\")\n",
        "print(embarked_c_or_s.head())\n",
        "first_second_class = titanic_df[titanic_df['Pclass'].isin([1, 2])]\n",
        "print(\"\\nPassengers in first or second class (Pclass in [1, 2]):\")\n",
        "print(first_second_class.head())"
      ],
      "metadata": {
        "id": "bMpF4vYX95SD",
        "colab": {
          "base_uri": "https://localhost:8080/"
        },
        "outputId": "fa530d05-ffbe-460d-b539-9a27c8ee326d"
      },
      "execution_count": 6,
      "outputs": [
        {
          "output_type": "stream",
          "name": "stdout",
          "text": [
            "\n",
            "Passengers with fare > 100:\n",
            "     PassengerId  Survived  Pclass  \\\n",
            "27            28         0       1   \n",
            "31            32         1       1   \n",
            "88            89         1       1   \n",
            "118          119         0       1   \n",
            "195          196         1       1   \n",
            "\n",
            "                                               Name     Sex   Age  SibSp  \\\n",
            "27                   Fortune, Mr. Charles Alexander    male  19.0      3   \n",
            "31   Spencer, Mrs. William Augustus (Marie Eugenie)  female   NaN      1   \n",
            "88                       Fortune, Miss. Mabel Helen  female  23.0      3   \n",
            "118                        Baxter, Mr. Quigg Edmond    male  24.0      0   \n",
            "195                            Lurette, Miss. Elise  female  58.0      0   \n",
            "\n",
            "     Parch    Ticket      Fare        Cabin Embarked  \n",
            "27       2     19950  263.0000  C23 C25 C27        S  \n",
            "31       0  PC 17569  146.5208          B78        C  \n",
            "88       2     19950  263.0000  C23 C25 C27        S  \n",
            "118      1  PC 17558  247.5208      B58 B60        C  \n",
            "195      0  PC 17569  146.5208          B80        C  \n",
            "\n",
            "Passengers in first class (Pclass = 1):\n",
            "    PassengerId  Survived  Pclass  \\\n",
            "1             2         1       1   \n",
            "3             4         1       1   \n",
            "6             7         0       1   \n",
            "11           12         1       1   \n",
            "23           24         1       1   \n",
            "\n",
            "                                                 Name     Sex   Age  SibSp  \\\n",
            "1   Cumings, Mrs. John Bradley (Florence Briggs Th...  female  38.0      1   \n",
            "3        Futrelle, Mrs. Jacques Heath (Lily May Peel)  female  35.0      1   \n",
            "6                             McCarthy, Mr. Timothy J    male  54.0      0   \n",
            "11                           Bonnell, Miss. Elizabeth  female  58.0      0   \n",
            "23                       Sloper, Mr. William Thompson    male  28.0      0   \n",
            "\n",
            "    Parch    Ticket     Fare Cabin Embarked  \n",
            "1       0  PC 17599  71.2833   C85        C  \n",
            "3       0    113803  53.1000  C123        S  \n",
            "6       0     17463  51.8625   E46        S  \n",
            "11      0    113783  26.5500  C103        S  \n",
            "23      0    113788  35.5000    A6        S  \n",
            "\n",
            "Female passengers under 18:\n",
            "    PassengerId  Survived  Pclass                                  Name  \\\n",
            "9            10         1       2   Nasser, Mrs. Nicholas (Adele Achem)   \n",
            "10           11         1       3       Sandstrom, Miss. Marguerite Rut   \n",
            "14           15         0       3  Vestrom, Miss. Hulda Amanda Adolfina   \n",
            "22           23         1       3           McGowan, Miss. Anna \"Annie\"   \n",
            "24           25         0       3         Palsson, Miss. Torborg Danira   \n",
            "\n",
            "       Sex   Age  SibSp  Parch   Ticket     Fare Cabin Embarked  \n",
            "9   female  14.0      1      0   237736  30.0708   NaN        C  \n",
            "10  female   4.0      1      1  PP 9549  16.7000    G6        S  \n",
            "14  female  14.0      0      0   350406   7.8542   NaN        S  \n",
            "22  female  15.0      0      0   330923   8.0292   NaN        Q  \n",
            "24  female   8.0      3      1   349909  21.0750   NaN        S  \n",
            "\n",
            "Passengers who embarked at 'C' or 'S':\n",
            "   PassengerId  Survived  Pclass  \\\n",
            "0            1         0       3   \n",
            "1            2         1       1   \n",
            "2            3         1       3   \n",
            "3            4         1       1   \n",
            "4            5         0       3   \n",
            "\n",
            "                                                Name     Sex   Age  SibSp  \\\n",
            "0                            Braund, Mr. Owen Harris    male  22.0      1   \n",
            "1  Cumings, Mrs. John Bradley (Florence Briggs Th...  female  38.0      1   \n",
            "2                             Heikkinen, Miss. Laina  female  26.0      0   \n",
            "3       Futrelle, Mrs. Jacques Heath (Lily May Peel)  female  35.0      1   \n",
            "4                           Allen, Mr. William Henry    male  35.0      0   \n",
            "\n",
            "   Parch            Ticket     Fare Cabin Embarked  \n",
            "0      0         A/5 21171   7.2500   NaN        S  \n",
            "1      0          PC 17599  71.2833   C85        C  \n",
            "2      0  STON/O2. 3101282   7.9250   NaN        S  \n",
            "3      0            113803  53.1000  C123        S  \n",
            "4      0            373450   8.0500   NaN        S  \n",
            "\n",
            "Passengers in first or second class (Pclass in [1, 2]):\n",
            "    PassengerId  Survived  Pclass  \\\n",
            "1             2         1       1   \n",
            "3             4         1       1   \n",
            "6             7         0       1   \n",
            "9            10         1       2   \n",
            "11           12         1       1   \n",
            "\n",
            "                                                 Name     Sex   Age  SibSp  \\\n",
            "1   Cumings, Mrs. John Bradley (Florence Briggs Th...  female  38.0      1   \n",
            "3        Futrelle, Mrs. Jacques Heath (Lily May Peel)  female  35.0      1   \n",
            "6                             McCarthy, Mr. Timothy J    male  54.0      0   \n",
            "9                 Nasser, Mrs. Nicholas (Adele Achem)  female  14.0      1   \n",
            "11                           Bonnell, Miss. Elizabeth  female  58.0      0   \n",
            "\n",
            "    Parch    Ticket     Fare Cabin Embarked  \n",
            "1       0  PC 17599  71.2833   C85        C  \n",
            "3       0    113803  53.1000  C123        S  \n",
            "6       0     17463  51.8625   E46        S  \n",
            "9       0    237736  30.0708   NaN        C  \n",
            "11      0    113783  26.5500  C103        S  \n"
          ]
        }
      ]
    },
    {
      "cell_type": "markdown",
      "source": [
        "#Exploratory Data Analysis Practice Exercise - 1.\n",
        "(Warning: Handle missing values in the Age column by filling them with the median age of the dataset before performing the division.)\n",
        "\n",
        "Answer the following questions from Dataset:"
      ],
      "metadata": {
        "id": "shNU3CBE_0XJ"
      }
    },
    {
      "cell_type": "markdown",
      "source": [
        "###Which passenger had the highest fare paid relative to their age?\n",
        "To answer the question perform following operations:\n",
        "1. Add a column to the Titanic dataset, fare per year, containing the fare divided by the age of\n",
        "the passenger(i.e., Fare/Age).\n",
        "2. Subset rows where fare per year is higher than 5, assigning this to high fare age.\n",
        "3. Sort high fare age by descending fare per year, assigning this to high fare age srt.\n",
        "4. Select only the Name and fare per year columns of high fare age srt and save the result as result.\n",
        "5. Look at the result."
      ],
      "metadata": {
        "id": "M0-s84pOA4Ci"
      }
    },
    {
      "cell_type": "code",
      "source": [
        "import pandas as pd\n",
        "\n",
        "titanic_df = pd.read_csv(\"/content/drive/MyDrive/Concept of AI/Titanic-Dataset.csv\")\n",
        "median_age = titanic_df['Age'].median()\n",
        "titanic_df['Age'] = titanic_df['Age'].fillna(median_age)\n",
        "titanic_df['fare_per_year'] = titanic_df['Fare'] / titanic_df['Age']\n",
        "high_fare_age = titanic_df[titanic_df['fare_per_year'] > 5]\n",
        "high_fare_age_srt = high_fare_age.sort_values(by='fare_per_year', ascending=False)\n",
        "result = high_fare_age_srt[['Name', 'fare_per_year']]\n",
        "print(\"\\nPassengers with the highest fare per year:\")\n",
        "print(result.head())\n"
      ],
      "metadata": {
        "colab": {
          "base_uri": "https://localhost:8080/"
        },
        "id": "QKEphxiIAoXD",
        "outputId": "29d91e8f-819f-448d-cd8a-e75116b0e81f"
      },
      "execution_count": 9,
      "outputs": [
        {
          "output_type": "stream",
          "name": "stdout",
          "text": [
            "\n",
            "Passengers with the highest fare per year:\n",
            "                                Name  fare_per_year\n",
            "305   Allison, Master. Hudson Trevor     164.728261\n",
            "297     Allison, Miss. Helen Loraine      75.775000\n",
            "386  Goodwin, Master. Sidney Leonard      46.900000\n",
            "164     Panula, Master. Eino Viljami      39.687500\n",
            "183        Becker, Master. Richard F      39.000000\n"
          ]
        }
      ]
    },
    {
      "cell_type": "markdown",
      "source": [
        "###Which adult male passenger (age ≥ 18 and Sex is 'male') paid the highest fare relative to their class?\n",
        "To answer the question perform following operations:\n",
        "1. Add a column to the Titanic dataset, fare per class, containing the fare divided by the passenger\n",
        "class i.e. Fare / Pclass.\n",
        "2. Subset rows where the passenger is male (Sex is ”male”) and an adult (Age is greater than or equal\n",
        "to 18), assigning this to adult males.\n",
        "3. Sort adult males by descending fare per class, assigning this to adult males srt.\n",
        "4. Select only the Name, Age, and fare per class columns of adult males sr and save the result\n",
        "as result.\n",
        "5. Look at the result."
      ],
      "metadata": {
        "id": "r01OMXFCCIbV"
      }
    },
    {
      "cell_type": "code",
      "source": [
        "import pandas as pd\n",
        "titanic_df = pd.read_csv(\"/content/drive/MyDrive/Concept of AI/Titanic-Dataset.csv\")\n",
        "titanic_df['fare_per_class'] = titanic_df['Fare'] / titanic_df['Pclass']\n",
        "adult_males = titanic_df[(titanic_df['Sex'] == 'male') & (titanic_df['Age'] >= 18)]\n",
        "adult_males_srt = adult_males.sort_values(by='fare_per_class', ascending=False)\n",
        "result = adult_males_srt[['Name', 'Age', 'fare_per_class']]\n",
        "print(\"\\nAdult males with the highest fare per class:\")\n",
        "print(result.head())\n"
      ],
      "metadata": {
        "colab": {
          "base_uri": "https://localhost:8080/"
        },
        "id": "fpXmcTHCCHD1",
        "outputId": "8950f2f7-fa83-4d32-b20a-1059c0d5a356"
      },
      "execution_count": 11,
      "outputs": [
        {
          "output_type": "stream",
          "name": "stdout",
          "text": [
            "\n",
            "Adult males with the highest fare per class:\n",
            "                                   Name   Age  fare_per_class\n",
            "737              Lesurer, Mr. Gustave J  35.0        512.3292\n",
            "679  Cardeza, Mr. Thomas Drake Martinez  36.0        512.3292\n",
            "27       Fortune, Mr. Charles Alexander  19.0        263.0000\n",
            "438                   Fortune, Mr. Mark  64.0        263.0000\n",
            "118            Baxter, Mr. Quigg Edmond  24.0        247.5208\n"
          ]
        }
      ]
    },
    {
      "cell_type": "markdown",
      "source": [
        "# Exploratory Data Analysis with Group-by Method Practice Exercise:\n",
        "Based on the dataset Answer the following question:\n"
      ],
      "metadata": {
        "id": "va9A5G69DIN5"
      }
    },
    {
      "cell_type": "markdown",
      "source": [
        "###What percent of the total fare revenue came from each passenger class?\n",
        "To answer the question perform following operation:\n",
        "1. Calculate the total Fare paid across all passengers in the Titanic dataset.\n",
        "2. Subset for passengers in first class (Pclass is 1) and calculate their total fare.\n",
        "3. Do the same for second class (Pclass is 2) and third class (Pclass is 3).\n",
        "4. Combine the fare totals from first, second, and third classes into a list.\n",
        "5. Divide the totals for each class by the overall total fare to get the proportion of fare revenue by class."
      ],
      "metadata": {
        "id": "lOWDvHHNDlZU"
      }
    },
    {
      "cell_type": "code",
      "source": [
        "import pandas as pd\n",
        "titanic_df = pd.read_csv(\"/content/drive/MyDrive/Concept of AI/Titanic-Dataset.csv\")\n",
        "\n",
        "total_fare = titanic_df['Fare'].sum()\n",
        "print(f\"Total fare across all passengers: {total_fare}\")\n",
        "first_class_fare = titanic_df[titanic_df['Pclass'] == 1]['Fare'].sum()\n",
        "\n",
        "second_class_fare = titanic_df[titanic_df['Pclass'] == 2]['Fare'].sum()\n",
        "third_class_fare = titanic_df[titanic_df['Pclass'] == 3]['Fare'].sum()\n",
        "fare_totals_by_class = [first_class_fare, second_class_fare, third_class_fare]\n",
        "print(\"\\nFare totals by class:\")\n",
        "print(f\"First class: {first_class_fare}, Second class: {second_class_fare}, Third class: {third_class_fare}\")\n",
        "\n",
        "proportion_of_fare_by_class = [fare / total_fare for fare in fare_totals_by_class]\n",
        "\n",
        "percentage_of_fare_by_class = [prop * 100 for prop in proportion_of_fare_by_class]\n",
        "print(\"\\nPercentage of total fare revenue by passenger class:\")\n",
        "print(f\"First class: {percentage_of_fare_by_class[0]:.2f}%\")\n",
        "print(f\"Second class: {percentage_of_fare_by_class[1]:.2f}%\")\n",
        "print(f\"Third class: {percentage_of_fare_by_class[2]:.2f}%\")\n"
      ],
      "metadata": {
        "colab": {
          "base_uri": "https://localhost:8080/"
        },
        "id": "bitF1PhIDxMA",
        "outputId": "af99398d-75e4-4f3d-f5f6-1eb63f693b57"
      },
      "execution_count": 12,
      "outputs": [
        {
          "output_type": "stream",
          "name": "stdout",
          "text": [
            "Total fare across all passengers: 28693.9493\n",
            "\n",
            "Fare totals by class:\n",
            "First class: 18177.4125, Second class: 3801.8417, Third class: 6714.6951\n",
            "\n",
            "Percentage of total fare revenue by passenger class:\n",
            "First class: 63.35%\n",
            "Second class: 13.25%\n",
            "Third class: 23.40%\n"
          ]
        }
      ]
    },
    {
      "cell_type": "markdown",
      "source": [
        "###What percent of the total number of passengers on the Titanic belonged to each age group\n",
        "(e.g., child, adult, senior)?\n",
        "To answer the question perform following operation:\n",
        "1. Create a new column, age group, that categorizes passengers into \"child\" (age < 18), \"adult\" (age\n",
        "18{64), and \"senior\" (age 65 and above).\n",
        "2. Calculate the total number of passengers on the Titanic.\n",
        "3. Count the number of passengers in each age group.\n",
        "4. Divide the count of each age group by the total number of passengers to get the proportion of passengers\n",
        "in each age group.\n",
        "5. Display the proportion as a percentage."
      ],
      "metadata": {
        "id": "jHlVpQNxDvXc"
      }
    },
    {
      "cell_type": "code",
      "source": [
        "def categorize_age(age):\n",
        "    if age < 18:\n",
        "        return 'child'\n",
        "    elif age < 65:\n",
        "        return 'adult'\n",
        "    else:\n",
        "        return 'senior'\n",
        "\n",
        "titanic_df['age_group'] = titanic_df['Age'].apply(categorize_age)\n",
        "total_passengers = len(titanic_df)\n",
        "print(f\"Total number of passengers on the Titanic: {total_passengers}\")\n",
        "\n",
        "age_group_counts = titanic_df['age_group'].value_counts()\n",
        "\n",
        "age_group_proportion = (age_group_counts / total_passengers) * 100\n",
        "print(\"\\nPercentage of passengers in each age group:\")\n",
        "print(age_group_proportion)\n"
      ],
      "metadata": {
        "colab": {
          "base_uri": "https://localhost:8080/"
        },
        "id": "QIO1bJ0qEhFt",
        "outputId": "4ae67391-575c-438e-ae08-4bce6e0bbf4c"
      },
      "execution_count": 13,
      "outputs": [
        {
          "output_type": "stream",
          "name": "stdout",
          "text": [
            "Total number of passengers on the Titanic: 891\n",
            "\n",
            "Percentage of passengers in each age group:\n",
            "age_group\n",
            "adult     66.217733\n",
            "senior    21.099888\n",
            "child     12.682379\n",
            "Name: count, dtype: float64\n"
          ]
        }
      ]
    }
  ]
}