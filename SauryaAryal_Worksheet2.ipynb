{
  "nbformat": 4,
  "nbformat_minor": 0,
  "metadata": {
    "colab": {
      "provenance": []
    },
    "kernelspec": {
      "name": "python3",
      "display_name": "Python 3"
    },
    "language_info": {
      "name": "python"
    }
  },
  "cells": [
    {
      "cell_type": "markdown",
      "source": [
        "#Warming Up Exercises - Basic Inspection and Exploration:"
      ],
      "metadata": {
        "id": "FJAgoMgXvFTT"
      }
    },
    {
      "cell_type": "markdown",
      "source": [
        "##Problem 1: Data Read, Write and Inspect:\n",
        "###• Dataset for the Task: \"bank.csv\"\n",
        "\n",
        "1. Load the provided dataset and import in pandas DataFrame.\n",
        "\n",
        "2. Check info of the DataFrame and identify following:\n",
        "\n",
        "    (a) columns with dtypes=object\n",
        "\n",
        "    (b) unique values of those columns.\n",
        "\n",
        "    (c) check for the total number of null values in each column.\n",
        "\n",
        "3. Drop all the columns with dtypes object and store in new DataFrame, also write the DataFrame in\n",
        "”.csv” with name ”banknumericdata.csv”\n",
        "\n",
        "4. Read ”banknumericdata.csv” and Find the summary statistics."
      ],
      "metadata": {
        "id": "bJiJG49MvRhf"
      }
    },
    {
      "cell_type": "code",
      "source": [
        "import pandas as pd\n",
        "\n",
        "#1:\n",
        "bank_data = pd.read_csv(\"/content/drive/MyDrive/Concept of AI/bank .csv\")\n",
        "\n",
        "#2:\n",
        "print(\"DataFrame Info:\")\n",
        "print(bank_data.info())\n",
        "\n",
        "# (a) Columns with dtype=object\n",
        "object_columns = bank_data.select_dtypes(include=['object']).columns\n",
        "print(\"\\nColumns with dtype=object:\", object_columns)\n",
        "\n",
        "# (b) Unique values of those columns\n",
        "for col in object_columns:\n",
        "    print(f\"\\nUnique values in column '{col}':\")\n",
        "    print(bank_data[col].unique())\n",
        "\n",
        "# (c) Total number of null values in each column\n",
        "print(\"\\nNull values in each column:\")\n",
        "print(bank_data.isnull().sum())\n",
        "\n",
        "#3:\n",
        "bank_numeric_data = bank_data.drop(columns=object_columns)\n",
        "bank_numeric_data.to_csv(\"banknumericdata.csv\", index=False)\n",
        "print(\"\\nNumeric data saved to 'banknumericdata.csv'.\")\n",
        "\n",
        "#4:\n",
        "bank_numeric_data = pd.read_csv(\"banknumericdata.csv\")\n",
        "print(\"\\nSummary statistics of the numeric data:\")\n",
        "print(bank_numeric_data.describe())"
      ],
      "metadata": {
        "colab": {
          "base_uri": "https://localhost:8080/"
        },
        "id": "zkokJwjZvtFX",
        "outputId": "c6d51631-b02d-490a-9945-39fe244570d1"
      },
      "execution_count": 3,
      "outputs": [
        {
          "output_type": "stream",
          "name": "stdout",
          "text": [
            "DataFrame Info:\n",
            "<class 'pandas.core.frame.DataFrame'>\n",
            "RangeIndex: 45211 entries, 0 to 45210\n",
            "Data columns (total 17 columns):\n",
            " #   Column     Non-Null Count  Dtype \n",
            "---  ------     --------------  ----- \n",
            " 0   age        45211 non-null  int64 \n",
            " 1   job        45211 non-null  object\n",
            " 2   marital    45211 non-null  object\n",
            " 3   education  45211 non-null  object\n",
            " 4   default    45211 non-null  object\n",
            " 5   balance    45211 non-null  int64 \n",
            " 6   housing    45211 non-null  object\n",
            " 7   loan       45211 non-null  object\n",
            " 8   contact    45211 non-null  object\n",
            " 9   day        45211 non-null  int64 \n",
            " 10  month      45211 non-null  object\n",
            " 11  duration   45211 non-null  int64 \n",
            " 12  campaign   45211 non-null  int64 \n",
            " 13  pdays      45211 non-null  int64 \n",
            " 14  previous   45211 non-null  int64 \n",
            " 15  poutcome   45211 non-null  object\n",
            " 16  y          45211 non-null  object\n",
            "dtypes: int64(7), object(10)\n",
            "memory usage: 5.9+ MB\n",
            "None\n",
            "\n",
            "Columns with dtype=object: Index(['job', 'marital', 'education', 'default', 'housing', 'loan', 'contact',\n",
            "       'month', 'poutcome', 'y'],\n",
            "      dtype='object')\n",
            "\n",
            "Unique values in column 'job':\n",
            "['management' 'technician' 'entrepreneur' 'blue-collar' 'unknown'\n",
            " 'retired' 'admin.' 'services' 'self-employed' 'unemployed' 'housemaid'\n",
            " 'student']\n",
            "\n",
            "Unique values in column 'marital':\n",
            "['married' 'single' 'divorced']\n",
            "\n",
            "Unique values in column 'education':\n",
            "['tertiary' 'secondary' 'unknown' 'primary']\n",
            "\n",
            "Unique values in column 'default':\n",
            "['no' 'yes']\n",
            "\n",
            "Unique values in column 'housing':\n",
            "['yes' 'no']\n",
            "\n",
            "Unique values in column 'loan':\n",
            "['no' 'yes']\n",
            "\n",
            "Unique values in column 'contact':\n",
            "['unknown' 'cellular' 'telephone']\n",
            "\n",
            "Unique values in column 'month':\n",
            "['may' 'jun' 'jul' 'aug' 'oct' 'nov' 'dec' 'jan' 'feb' 'mar' 'apr' 'sep']\n",
            "\n",
            "Unique values in column 'poutcome':\n",
            "['unknown' 'failure' 'other' 'success']\n",
            "\n",
            "Unique values in column 'y':\n",
            "['no' 'yes']\n",
            "\n",
            "Null values in each column:\n",
            "age          0\n",
            "job          0\n",
            "marital      0\n",
            "education    0\n",
            "default      0\n",
            "balance      0\n",
            "housing      0\n",
            "loan         0\n",
            "contact      0\n",
            "day          0\n",
            "month        0\n",
            "duration     0\n",
            "campaign     0\n",
            "pdays        0\n",
            "previous     0\n",
            "poutcome     0\n",
            "y            0\n",
            "dtype: int64\n",
            "\n",
            "Numeric data saved to 'banknumericdata.csv'.\n",
            "\n",
            "Summary statistics of the numeric data:\n",
            "                age        balance           day      duration      campaign  \\\n",
            "count  45211.000000   45211.000000  45211.000000  45211.000000  45211.000000   \n",
            "mean      40.936210    1362.272058     15.806419    258.163080      2.763841   \n",
            "std       10.618762    3044.765829      8.322476    257.527812      3.098021   \n",
            "min       18.000000   -8019.000000      1.000000      0.000000      1.000000   \n",
            "25%       33.000000      72.000000      8.000000    103.000000      1.000000   \n",
            "50%       39.000000     448.000000     16.000000    180.000000      2.000000   \n",
            "75%       48.000000    1428.000000     21.000000    319.000000      3.000000   \n",
            "max       95.000000  102127.000000     31.000000   4918.000000     63.000000   \n",
            "\n",
            "              pdays      previous  \n",
            "count  45211.000000  45211.000000  \n",
            "mean      40.197828      0.580323  \n",
            "std      100.128746      2.303441  \n",
            "min       -1.000000      0.000000  \n",
            "25%       -1.000000      0.000000  \n",
            "50%       -1.000000      0.000000  \n",
            "75%       -1.000000      0.000000  \n",
            "max      871.000000    275.000000  \n"
          ]
        }
      ]
    },
    {
      "cell_type": "markdown",
      "source": [
        "##Problem 2 - Data Imputations:\n",
        "###Complete all the following Task:\n",
        "\n",
        "• Dataset for the Task: \"medical_student.csv\"\n",
        "\n",
        "1. Load the provided dataset and import in pandas DataFrame.\n",
        "\n",
        "2. Check info of the DataFrame and identify column with missing (null) values.\n",
        "\n",
        "3. For the column with missing values fill the values using various techniques we discussed above. Try\n",
        "to explain why did you select the particular methods for particular column.\n",
        "\n",
        "4. Check for any duplicate values present in Dataset and do necessary to manage the duplicate items.\n",
        "{Hint: dataset.duplicated.sum()}"
      ],
      "metadata": {
        "id": "TZ9nIOt_OP-I"
      }
    },
    {
      "cell_type": "code",
      "source": [
        "import pandas as pd\n",
        "\n",
        "# 1:\n",
        "medical_data = pd.read_csv(\"/content/drive/MyDrive/Concept of AI/medical_students_dataset.csv\")\n",
        "\n",
        "#2:\n",
        "print(\"DataFrame Info:\")\n",
        "print(medical_data.info())\n",
        "print(\"\\nMissing values in each column:\")\n",
        "print(medical_data.isnull().sum())\n",
        "\n",
        "#3:\n",
        "# Example: Replace missing values with mean, median, mode, or forward fill/backward fill.\n",
        "for column in medical_data.columns:\n",
        "    if medical_data[column].isnull().sum() > 0:\n",
        "        print(f\"\\nHandling missing values for column '{column}':\")\n",
        "        if medical_data[column].dtype in ['float64', 'int64']:\n",
        "            # Use mean for numerical columns\n",
        "            medical_data[column].fillna(medical_data[column].mean(), inplace=True)\n",
        "            print(f\"Filled missing values with mean: {medical_data[column].mean()}\")\n",
        "        else:\n",
        "            # Use mode for categorical columns\n",
        "            medical_data[column].fillna(medical_data[column].mode()[0], inplace=True)\n",
        "            print(f\"Filled missing values with mode: {medical_data[column].mode()[0]}\")\n",
        "\n",
        "\n",
        "print(\"\\nMissing values after imputation:\")\n",
        "print(medical_data.isnull().sum())\n",
        "\n",
        "#4:\n",
        "print(\"\\nNumber of duplicate rows in the dataset:\")\n",
        "print(medical_data.duplicated().sum())\n",
        "medical_data.drop_duplicates(inplace=True)\n",
        "print(\"\\nDuplicates removed. Current shape of the dataset:\")\n",
        "print(medical_data.shape)\n"
      ],
      "metadata": {
        "colab": {
          "base_uri": "https://localhost:8080/"
        },
        "id": "qL7O4oeIOtc7",
        "outputId": "af644dd9-66e2-4432-c536-8fb3e9747b7c"
      },
      "execution_count": 4,
      "outputs": [
        {
          "output_type": "stream",
          "name": "stdout",
          "text": [
            "DataFrame Info:\n",
            "<class 'pandas.core.frame.DataFrame'>\n",
            "RangeIndex: 200000 entries, 0 to 199999\n",
            "Data columns (total 13 columns):\n",
            " #   Column          Non-Null Count   Dtype  \n",
            "---  ------          --------------   -----  \n",
            " 0   Student ID      180000 non-null  float64\n",
            " 1   Age             180000 non-null  float64\n",
            " 2   Gender          180000 non-null  object \n",
            " 3   Height          180000 non-null  float64\n",
            " 4   Weight          180000 non-null  float64\n",
            " 5   Blood Type      180000 non-null  object \n",
            " 6   BMI             180000 non-null  float64\n",
            " 7   Temperature     180000 non-null  float64\n",
            " 8   Heart Rate      180000 non-null  float64\n",
            " 9   Blood Pressure  180000 non-null  float64\n",
            " 10  Cholesterol     180000 non-null  float64\n",
            " 11  Diabetes        180000 non-null  object \n",
            " 12  Smoking         180000 non-null  object \n",
            "dtypes: float64(9), object(4)\n",
            "memory usage: 19.8+ MB\n",
            "None\n",
            "\n",
            "Missing values in each column:\n",
            "Student ID        20000\n",
            "Age               20000\n",
            "Gender            20000\n",
            "Height            20000\n",
            "Weight            20000\n",
            "Blood Type        20000\n",
            "BMI               20000\n",
            "Temperature       20000\n",
            "Heart Rate        20000\n",
            "Blood Pressure    20000\n",
            "Cholesterol       20000\n",
            "Diabetes          20000\n",
            "Smoking           20000\n",
            "dtype: int64\n",
            "\n",
            "Handling missing values for column 'Student ID':\n",
            "Filled missing values with mean: 49974.042077777776\n",
            "\n",
            "Handling missing values for column 'Age':\n",
            "Filled missing values with mean: 26.02156111111111\n",
            "\n",
            "Handling missing values for column 'Gender':\n"
          ]
        },
        {
          "output_type": "stream",
          "name": "stderr",
          "text": [
            "<ipython-input-4-7627ae35e865>:19: FutureWarning: A value is trying to be set on a copy of a DataFrame or Series through chained assignment using an inplace method.\n",
            "The behavior will change in pandas 3.0. This inplace method will never work because the intermediate object on which we are setting values always behaves as a copy.\n",
            "\n",
            "For example, when doing 'df[col].method(value, inplace=True)', try using 'df.method({col: value}, inplace=True)' or df[col] = df[col].method(value) instead, to perform the operation inplace on the original object.\n",
            "\n",
            "\n",
            "  medical_data[column].fillna(medical_data[column].mean(), inplace=True)\n",
            "<ipython-input-4-7627ae35e865>:23: FutureWarning: A value is trying to be set on a copy of a DataFrame or Series through chained assignment using an inplace method.\n",
            "The behavior will change in pandas 3.0. This inplace method will never work because the intermediate object on which we are setting values always behaves as a copy.\n",
            "\n",
            "For example, when doing 'df[col].method(value, inplace=True)', try using 'df.method({col: value}, inplace=True)' or df[col] = df[col].method(value) instead, to perform the operation inplace on the original object.\n",
            "\n",
            "\n",
            "  medical_data[column].fillna(medical_data[column].mode()[0], inplace=True)\n"
          ]
        },
        {
          "output_type": "stream",
          "name": "stdout",
          "text": [
            "Filled missing values with mode: Male\n",
            "\n",
            "Handling missing values for column 'Height':\n",
            "Filled missing values with mean: 174.94710266857416\n",
            "\n",
            "Handling missing values for column 'Weight':\n",
            "Filled missing values with mean: 69.97158509186077\n",
            "\n",
            "Handling missing values for column 'Blood Type':\n",
            "Filled missing values with mode: B\n",
            "\n",
            "Handling missing values for column 'BMI':\n",
            "Filled missing values with mean: 23.338869359639226\n",
            "\n",
            "Handling missing values for column 'Temperature':\n",
            "Filled missing values with mean: 98.60094787707666\n",
            "\n",
            "Handling missing values for column 'Heart Rate':\n",
            "Filled missing values with mean: 79.50376666666666\n",
            "\n",
            "Handling missing values for column 'Blood Pressure':\n",
            "Filled missing values with mean: 114.55803333333333\n",
            "\n",
            "Handling missing values for column 'Cholesterol':\n",
            "Filled missing values with mean: 184.4863611111111\n",
            "\n",
            "Handling missing values for column 'Diabetes':\n",
            "Filled missing values with mode: No\n",
            "\n",
            "Handling missing values for column 'Smoking':\n",
            "Filled missing values with mode: No\n",
            "\n",
            "Missing values after imputation:\n",
            "Student ID        0\n",
            "Age               0\n",
            "Gender            0\n",
            "Height            0\n",
            "Weight            0\n",
            "Blood Type        0\n",
            "BMI               0\n",
            "Temperature       0\n",
            "Heart Rate        0\n",
            "Blood Pressure    0\n",
            "Cholesterol       0\n",
            "Diabetes          0\n",
            "Smoking           0\n",
            "dtype: int64\n",
            "\n",
            "Number of duplicate rows in the dataset:\n",
            "12572\n",
            "\n",
            "Duplicates removed. Current shape of the dataset:\n",
            "(187428, 13)\n"
          ]
        }
      ]
    },
    {
      "cell_type": "markdown",
      "source": [
        "#3.2 Exercises - Data Cleaning and Transformations with ”Titanic Dataset”:\n",
        "##Problem - 1:\n",
        "Create a DataFrame that is subsetted for the columns ’Name’, ’Pclass’, ’Sex’, ’Age’, ’Fare’, and ’Survived’.\n",
        "Retain only those rows where ’Pclass’ is equal to 1, representing first-class passengers. What is the mean,\n",
        "median, maximum value, and minimum value of the ’Fare’ column?\n"
      ],
      "metadata": {
        "id": "QabGVYUeQO_B"
      }
    },
    {
      "cell_type": "code",
      "source": [
        "import pandas as pd\n",
        "\n",
        "# Load the Titanic dataset\n",
        "titanic_data = pd.read_csv(\"/content/drive/MyDrive/Concept of AI/Titanic-Dataset.csv\")\n",
        "\n",
        "# Subset the DataFrame\n",
        "subset = titanic_data[['Name', 'Pclass', 'Sex', 'Age', 'Fare', 'Survived']]\n",
        "first_class = subset[subset['Pclass'] == 1]\n",
        "\n",
        "# Calculate statistics for 'Fare'\n",
        "fare_stats = {\n",
        "    \"Mean\": first_class['Fare'].mean(),\n",
        "    \"Median\": first_class['Fare'].median(),\n",
        "    \"Max\": first_class['Fare'].max(),\n",
        "    \"Min\": first_class['Fare'].min()\n",
        "}\n",
        "print(\"\\nStatistics for 'Fare' column (First-Class Passengers):\")\n",
        "print(fare_stats)\n"
      ],
      "metadata": {
        "colab": {
          "base_uri": "https://localhost:8080/"
        },
        "id": "jOtsgphTRiJ8",
        "outputId": "50955d51-d8e7-4424-dae7-616189b35f9f"
      },
      "execution_count": 6,
      "outputs": [
        {
          "output_type": "stream",
          "name": "stdout",
          "text": [
            "\n",
            "Statistics for 'Fare' column (First-Class Passengers):\n",
            "{'Mean': 84.1546875, 'Median': 60.287499999999994, 'Max': 512.3292, 'Min': 0.0}\n"
          ]
        }
      ]
    },
    {
      "cell_type": "markdown",
      "source": [
        "##Problem - 2:\n",
        "How many null values are contained in the ’Age’ column in your subsetted DataFrame? Once you’ve found\n",
        "this out, drop them from your DataFrame."
      ],
      "metadata": {
        "id": "mGtpSXX1S8DD"
      }
    },
    {
      "cell_type": "code",
      "source": [
        "# Count null values in 'Age'\n",
        "null_age_count = first_class['Age'].isnull().sum()\n",
        "print(f\"\\nNumber of null values in 'Age': {null_age_count}\")\n",
        "\n",
        "# Drop rows with null 'Age' values\n",
        "first_class_cleaned = first_class.dropna(subset=['Age'])\n",
        "\n",
        "print(f\"\\nRows after dropping null values in 'Age': {first_class_cleaned.shape[0]}\")\n"
      ],
      "metadata": {
        "colab": {
          "base_uri": "https://localhost:8080/"
        },
        "id": "ZuPOl5sQS-uG",
        "outputId": "2f7dcebb-9f1d-46d8-d80b-7295fec06122"
      },
      "execution_count": 7,
      "outputs": [
        {
          "output_type": "stream",
          "name": "stdout",
          "text": [
            "\n",
            "Number of null values in 'Age': 30\n",
            "\n",
            "Rows after dropping null values in 'Age': 186\n"
          ]
        }
      ]
    },
    {
      "cell_type": "markdown",
      "source": [
        "##Problem - 3:\n",
        "\n",
        "The 'Embarked' column in the Titanic dataset contains categorical data representing the ports of embarka-\n",
        "tion:\n",
        "\n",
        "• 'C' for Cherbourg\n",
        "• 'Q' for Queenstown\n",
        "• 'S' for Southampton\n",
        "Task:\n",
        "1. Use one-hot encoding to convert the 'Embarked' column into separate binary columns ('Embarked C',\n",
        "'Embarked Q', 'Embarked S').\n",
        "2. Add these new columns to the original DataFrame.\n",
        "3. Drop the original 'Embarked' column.\n",
        "4. Print the first few rows of the modified DataFrame to verify the changes."
      ],
      "metadata": {
        "id": "bIDSb9ZgTOg-"
      }
    },
    {
      "cell_type": "code",
      "source": [
        "# One-hot encode the 'Embarked' column\n",
        "encoded_embarked = pd.get_dummies(titanic_data['Embarked'], prefix='Embarked')\n",
        "titanic_data_encoded = pd.concat([titanic_data, encoded_embarked], axis=1)\n",
        "\n",
        "# Drop the original 'Embarked' column\n",
        "titanic_data_encoded.drop(columns=['Embarked'], inplace=True)\n",
        "\n",
        "print(\"\\nModified DataFrame with One-Hot Encoding for 'Embarked':\")\n",
        "print(titanic_data_encoded.head())"
      ],
      "metadata": {
        "colab": {
          "base_uri": "https://localhost:8080/"
        },
        "id": "a-ScU8SpUnWv",
        "outputId": "c284f7bf-f761-4259-c68a-14edf975591b"
      },
      "execution_count": 8,
      "outputs": [
        {
          "output_type": "stream",
          "name": "stdout",
          "text": [
            "\n",
            "Modified DataFrame with One-Hot Encoding for 'Embarked':\n",
            "   PassengerId  Survived  Pclass  \\\n",
            "0            1         0       3   \n",
            "1            2         1       1   \n",
            "2            3         1       3   \n",
            "3            4         1       1   \n",
            "4            5         0       3   \n",
            "\n",
            "                                                Name     Sex   Age  SibSp  \\\n",
            "0                            Braund, Mr. Owen Harris    male  22.0      1   \n",
            "1  Cumings, Mrs. John Bradley (Florence Briggs Th...  female  38.0      1   \n",
            "2                             Heikkinen, Miss. Laina  female  26.0      0   \n",
            "3       Futrelle, Mrs. Jacques Heath (Lily May Peel)  female  35.0      1   \n",
            "4                           Allen, Mr. William Henry    male  35.0      0   \n",
            "\n",
            "   Parch            Ticket     Fare Cabin  Embarked_C  Embarked_Q  Embarked_S  \n",
            "0      0         A/5 21171   7.2500   NaN       False       False        True  \n",
            "1      0          PC 17599  71.2833   C85        True       False       False  \n",
            "2      0  STON/O2. 3101282   7.9250   NaN       False       False        True  \n",
            "3      0            113803  53.1000  C123       False       False        True  \n",
            "4      0            373450   8.0500   NaN       False       False        True  \n"
          ]
        }
      ]
    },
    {
      "cell_type": "markdown",
      "source": [
        "##Problem - 4:\n",
        "Compare the mean survival rates ('Survived') for the different groups in the 'Sex' column. Draw a visualization to show how the survival distributions vary by gender."
      ],
      "metadata": {
        "id": "z8JDSJFbUuvU"
      }
    },
    {
      "cell_type": "code",
      "source": [
        "import matplotlib.pyplot as plt\n",
        "import seaborn as sns\n",
        "\n",
        "# Calculate survival rates by gender\n",
        "survival_rates = titanic_data.groupby('Sex')['Survived'].mean()\n",
        "print(\"\\nSurvival rates by gender:\")\n",
        "print(survival_rates)\n",
        "\n",
        "# Visualization\n",
        "sns.barplot(x=survival_rates.index, y=survival_rates.values)\n",
        "plt.title(\"Survival Rates by Gender\")\n",
        "plt.ylabel(\"Survival Rate\")\n",
        "plt.xlabel(\"Gender\")\n",
        "plt.show()\n"
      ],
      "metadata": {
        "colab": {
          "base_uri": "https://localhost:8080/",
          "height": 576
        },
        "id": "z2QuSnYIVABz",
        "outputId": "0c62a8b0-d3b3-46bc-a664-88a16b80bdcf"
      },
      "execution_count": 11,
      "outputs": [
        {
          "output_type": "stream",
          "name": "stdout",
          "text": [
            "\n",
            "Survival rates by gender:\n",
            "Sex\n",
            "female    0.742038\n",
            "male      0.188908\n",
            "Name: Survived, dtype: float64\n"
          ]
        },
        {
          "output_type": "display_data",
          "data": {
            "text/plain": [
              "<Figure size 640x480 with 1 Axes>"
            ],
            "image/png": "[encoded data removed]"
          },
          "metadata": {}
        }
      ]
    },
    {
      "cell_type": "markdown",
      "source": [
        "##Problem - 5:\n",
        "\n",
        "Draw a visualization that breaks your visualization from Exercise 3 down by the port of embarkation ('Em-\n",
        "barked'). In this instance, compare the ports 'C' (Cherbourg), 'Q' (Queenstown), and 'S' (Southampton)."
      ],
      "metadata": {
        "id": "o5vYtAUtVuOO"
      }
    },
    {
      "cell_type": "code",
      "source": [
        "# Calculate survival rates by port of embarkation\n",
        "embarked_survival = titanic_data.groupby('Embarked')['Survived'].mean()\n",
        "\n",
        "# Visualization\n",
        "sns.barplot(x=embarked_survival.index, y=embarked_survival.values)\n",
        "plt.title(\"Survival Rates by Port of Embarkation\")\n",
        "plt.ylabel(\"Survival Rate\")\n",
        "plt.xlabel(\"Port of Embarkation\")\n",
        "plt.show()\n"
      ],
      "metadata": {
        "colab": {
          "base_uri": "https://localhost:8080/",
          "height": 472
        },
        "id": "uT7ChuNBVKw1",
        "outputId": "0272c15b-70f5-44a3-d28e-919cc4a79bd4"
      },
      "execution_count": 12,
      "outputs": [
        {
          "output_type": "display_data",
          "data": {
            "text/plain": [
              "<Figure size 640x480 with 1 Axes>"
            ],
            "image/png": "[encoded data removed]"
          },
          "metadata": {}
        }
      ]
    },
    {
      "cell_type": "markdown",
      "source": [
        "Problem - 6{Optional}:\n",
        "Show how the survival rates (’Survived’) vary by age group and passenger class (’Pclass’). Break up the\n",
        "’Age’ column into five quantiles in your DataFrame, and then compare the means of ’Survived’ by class\n",
        "and age group. Draw a visualization using a any plotting library to represent this graphically."
      ],
      "metadata": {
        "id": "7A6ykAxzWcM3"
      }
    },
    {
      "cell_type": "code",
      "source": [
        "# Create age quantiles\n",
        "titanic_data['AgeGroup'] = pd.qcut(titanic_data['Age'].dropna(), q=5)\n",
        "\n",
        "# Calculate survival rates by AgeGroup and Pclass\n",
        "age_class_survival = titanic_data.groupby(['AgeGroup', 'Pclass'])['Survived'].mean()\n",
        "\n",
        "print(\"\\nSurvival rates by Age Group and Passenger Class:\")\n",
        "print(age_class_survival)\n",
        "\n",
        "# Visualization\n",
        "age_class_survival.unstack().plot(kind='bar', figsize=(10, 6))\n",
        "plt.title(\"Survival Rates by Age Group and Passenger Class\")\n",
        "plt.ylabel(\"Survival Rate\")\n",
        "plt.xlabel(\"Age Group\")\n",
        "plt.legend(title='Passenger Class')\n",
        "plt.show()\n"
      ],
      "metadata": {
        "colab": {
          "base_uri": "https://localhost:8080/",
          "height": 1000
        },
        "id": "lrvFeDjRWyEF",
        "outputId": "704f45a9-de86-4e15-e885-2368bb0c823f"
      },
      "execution_count": 14,
      "outputs": [
        {
          "output_type": "stream",
          "name": "stderr",
          "text": [
            "<ipython-input-14-51b95f5a019f>:5: FutureWarning: The default of observed=False is deprecated and will be changed to True in a future version of pandas. Pass observed=False to retain current behavior or observed=True to adopt the future default and silence this warning.\n",
            "  age_class_survival = titanic_data.groupby(['AgeGroup', 'Pclass'])['Survived'].mean()\n"
          ]
        },
        {
          "output_type": "stream",
          "name": "stdout",
          "text": [
            "\n",
            "Survival rates by Age Group and Passenger Class:\n",
            "AgeGroup       Pclass\n",
            "(0.419, 19.0]  1         0.809524\n",
            "               2         0.742857\n",
            "               3         0.333333\n",
            "(19.0, 25.0]   1         0.761905\n",
            "               2         0.400000\n",
            "               3         0.197674\n",
            "(25.0, 31.8]   1         0.666667\n",
            "               2         0.416667\n",
            "               3         0.283582\n",
            "(31.8, 41.0]   1         0.777778\n",
            "               2         0.461538\n",
            "               3         0.166667\n",
            "(41.0, 80.0]   1         0.506667\n",
            "               2         0.363636\n",
            "               3         0.088235\n",
            "Name: Survived, dtype: float64\n"
          ]
        },
        {
          "output_type": "display_data",
          "data": {
            "text/plain": [
              "<Figure size 1000x600 with 1 Axes>"
            ],
            "image/png": "[encoded data removed]"
          },
          "metadata": {}
        }
      ]
    },
    {
      "cell_type": "code",
      "source": [],
      "metadata": {
        "id": "Lpgju52rXCOX"
      },
      "execution_count": 14,
      "outputs": []
    }
  ]
}