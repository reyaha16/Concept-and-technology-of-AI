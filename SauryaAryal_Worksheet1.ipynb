{
 "cells": [
  {
   "cell_type": "markdown",
   "metadata": {
    "id": "mNou3wPPuqlB"
   },
   "source": [
    "#Warming Up Exercise: Basic Vector and Matrix Operation with Numpy."
   ]
  },
  {
   "cell_type": "markdown",
   "metadata": {
    "id": "1YlB_Y59vC92"
   },
   "source": [
    "##Problem - 1: Array Creation:"
   ]
  },
  {
   "cell_type": "markdown",
   "metadata": {
    "id": "HyBguLRlyB05"
   },
   "source": [
    "1. Initialize an empty array with size 2X2."
   ]
  },
  {
   "cell_type": "code",
   "execution_count": 2,
   "metadata": {
    "colab": {
     "base_uri": "https://localhost:8080/"
    },
    "id": "PpG60o8djB9i",
    "outputId": "daa8563c-db19-4a37-8449-4b0da66a09a4"
   },
   "outputs": [
    {
     "data": {
      "text/plain": [
       "(2, 2)"
      ]
     },
     "execution_count": 2,
     "metadata": {},
     "output_type": "execute_result"
    }
   ],
   "source": [
    "import numpy as np\n",
    "empty_array= np.empty((2,2))\n",
    "empty_array.shape"
   ]
  },
  {
   "cell_type": "markdown",
   "metadata": {
    "id": "agMXkxgXyFwU"
   },
   "source": [
    "2.Initialize an all one array with size 4X2."
   ]
  },
  {
   "cell_type": "code",
   "execution_count": 3,
   "metadata": {
    "colab": {
     "base_uri": "https://localhost:8080/"
    },
    "id": "sman-7lktsEq",
    "outputId": "92139a0b-037b-47a5-c91a-b0ca96a96042"
   },
   "outputs": [
    {
     "name": "stdout",
     "output_type": "stream",
     "text": [
      "[[1. 1.]\n",
      " [1. 1.]\n",
      " [1. 1.]\n",
      " [1. 1.]]\n",
      "The size of array is (4, 2)\n"
     ]
    }
   ],
   "source": [
    "import numpy as np\n",
    "ones_array = np.ones((4, 2))\n",
    "print(ones_array)\n",
    "print(\"The size of array is\",ones_array.shape)"
   ]
  },
  {
   "cell_type": "markdown",
   "metadata": {
    "id": "aHbXADiDyh2g"
   },
   "source": [
    "3.Return a new array of given shape and type, filled with fill value.{Hint: np.full}"
   ]
  },
  {
   "cell_type": "code",
   "execution_count": 4,
   "metadata": {
    "colab": {
     "base_uri": "https://localhost:8080/"
    },
    "id": "Xa4F5dSaoR5J",
    "outputId": "9e57f52e-c4d3-46a3-a5e9-435bfddd021c"
   },
   "outputs": [
    {
     "name": "stdout",
     "output_type": "stream",
     "text": [
      "[[1 1]\n",
      " [1 1]]\n"
     ]
    }
   ],
   "source": [
    "import numpy as np\n",
    "new_array=np.full((2,2),fill_value=1)\n",
    "print(new_array)"
   ]
  },
  {
   "cell_type": "markdown",
   "metadata": {
    "id": "G4f1SW9A1DUG"
   },
   "source": [
    "4. Return a new array of zeros with same shape and type as a given array.{Hint: np.zeros like}"
   ]
  },
  {
   "cell_type": "code",
   "execution_count": 5,
   "metadata": {
    "colab": {
     "base_uri": "https://localhost:8080/"
    },
    "id": "0XtzGxEhnbPl",
    "outputId": "4ec6d542-d7f5-45ab-b3ac-25b8a1d7027f"
   },
   "outputs": [
    {
     "name": "stdout",
     "output_type": "stream",
     "text": [
      "[[0. 0.]\n",
      " [0. 0.]]\n"
     ]
    }
   ],
   "source": [
    "import numpy as np\n",
    "existing_array= np.zeros((2,2))\n",
    "A1=np.zeros_like(existing_array)\n",
    "print(A1)"
   ]
  },
  {
   "cell_type": "markdown",
   "metadata": {
    "id": "2jipRvzy23kV"
   },
   "source": [
    "5. Return a new array of ones with same shape and type as a given array.{Hint: np.ones like}"
   ]
  },
  {
   "cell_type": "code",
   "execution_count": 6,
   "metadata": {
    "colab": {
     "base_uri": "https://localhost:8080/"
    },
    "id": "IR822bv-o5R8",
    "outputId": "b1b26c5a-c3b1-4e93-aea0-0b46c50fa106"
   },
   "outputs": [
    {
     "data": {
      "text/plain": [
       "array([[1., 1.],\n",
       "       [1., 1.]])"
      ]
     },
     "execution_count": 6,
     "metadata": {},
     "output_type": "execute_result"
    }
   ],
   "source": [
    "existing_array= np.ones((2,2))\n",
    "B=np.ones_like(existing_array)\n",
    "B"
   ]
  },
  {
   "cell_type": "markdown",
   "metadata": {
    "id": "qpSJQ2uF3gAP"
   },
   "source": [
    "6. For an existing list new_list = [1,2,3,4] convert to an numpy array.{Hint: np.array()}"
   ]
  },
  {
   "cell_type": "code",
   "execution_count": 7,
   "metadata": {
    "colab": {
     "base_uri": "https://localhost:8080/"
    },
    "id": "sVihw9K4pKBZ",
    "outputId": "0f0453d0-7e10-47e3-b2d5-adf969d2b742"
   },
   "outputs": [
    {
     "data": {
      "text/plain": [
       "array([1, 2, 3, 4])"
      ]
     },
     "execution_count": 7,
     "metadata": {},
     "output_type": "execute_result"
    }
   ],
   "source": [
    "new_list=[1,2,3,4]\n",
    "a=np.array(new_list)\n",
    "a\n"
   ]
  },
  {
   "cell_type": "markdown",
   "metadata": {
    "id": "yrl7faHr35Zt"
   },
   "source": [
    "##Problem - 2: Array Manipulation: Numerical Ranges and Array indexing:"
   ]
  },
  {
   "cell_type": "markdown",
   "metadata": {
    "id": "J4HNx3h03-Sn"
   },
   "source": [
    "1. Create an array with values ranging from 10 to 49. {Hint:np.arrange()}."
   ]
  },
  {
   "cell_type": "code",
   "execution_count": 8,
   "metadata": {
    "colab": {
     "base_uri": "https://localhost:8080/"
    },
    "id": "8Mrac9mx4AdT",
    "outputId": "08654418-71fd-4727-8d0f-c52edcff52ca"
   },
   "outputs": [
    {
     "data": {
      "text/plain": [
       "array([10, 11, 12, 13, 14, 15, 16, 17, 18, 19, 20, 21, 22, 23, 24, 25, 26,\n",
       "       27, 28, 29, 30, 31, 32, 33, 34, 35, 36, 37, 38, 39, 40, 41, 42, 43,\n",
       "       44, 45, 46, 47, 48, 49])"
      ]
     },
     "execution_count": 8,
     "metadata": {},
     "output_type": "execute_result"
    }
   ],
   "source": [
    "a= np.arange(10,50)\n",
    "a"
   ]
  },
  {
   "cell_type": "markdown",
   "metadata": {
    "id": "v2Ei1FZ844CQ"
   },
   "source": [
    "2.Create a 3X3 matrix with values ranging from 0 to 8.\n",
    "{Hint:look for np.reshape()}"
   ]
  },
  {
   "cell_type": "code",
   "execution_count": 9,
   "metadata": {
    "colab": {
     "base_uri": "https://localhost:8080/"
    },
    "id": "8SmE8S4f43tV",
    "outputId": "561fa49e-8a8d-424b-f4eb-3fe4a93f0c7c"
   },
   "outputs": [
    {
     "data": {
      "text/plain": [
       "array([[0, 1, 2],\n",
       "       [3, 4, 5],\n",
       "       [6, 7, 8]])"
      ]
     },
     "execution_count": 9,
     "metadata": {},
     "output_type": "execute_result"
    }
   ],
   "source": [
    "a= np.arange(0,9).reshape(3,3)\n",
    "a"
   ]
  },
  {
   "cell_type": "markdown",
   "metadata": {
    "id": "jMgbhDy65Hg0"
   },
   "source": [
    "3. Create a 3X3 identity matrix.{Hint:np.eye()}"
   ]
  },
  {
   "cell_type": "code",
   "execution_count": 10,
   "metadata": {
    "colab": {
     "base_uri": "https://localhost:8080/"
    },
    "id": "tLWA52fv5L9c",
    "outputId": "24f28995-7d8f-49fb-ad8d-0c872def1851"
   },
   "outputs": [
    {
     "data": {
      "text/plain": [
       "array([[1., 0., 0.],\n",
       "       [0., 1., 0.],\n",
       "       [0., 0., 1.]])"
      ]
     },
     "execution_count": 10,
     "metadata": {},
     "output_type": "execute_result"
    }
   ],
   "source": [
    "a= np.eye(3,3)\n",
    "a"
   ]
  },
  {
   "cell_type": "markdown",
   "metadata": {
    "id": "YGYk7cRc5WGX"
   },
   "source": [
    "4. Create a random array of size 30 and find the mean of the array.\n",
    "{Hint:check for np.random.random() and array.mean() function}"
   ]
  },
  {
   "cell_type": "code",
   "execution_count": 11,
   "metadata": {
    "colab": {
     "base_uri": "https://localhost:8080/"
    },
    "id": "r_DehQKz5W96",
    "outputId": "a8625b95-aa95-47e5-8ddc-7321b52ea82a"
   },
   "outputs": [
    {
     "name": "stdout",
     "output_type": "stream",
     "text": [
      "The array is [0.93796548 0.15471716 0.96804599 0.13784032 0.51885813 0.54182608\n",
      " 0.77751122 0.34848903 0.72023753 0.0692735  0.09754872 0.82108085\n",
      " 0.18673041 0.82145757 0.58891886 0.32041006 0.30672943 0.25827329\n",
      " 0.93264336 0.89645558 0.45851579 0.49949989 0.07349113 0.85855561\n",
      " 0.38959867 0.30823479 0.4076786  0.33856389 0.30930032 0.85754252]\n",
      "the mean is 0.49686645899954685\n"
     ]
    }
   ],
   "source": [
    "a= np.random.random(30)\n",
    "m= a.mean()\n",
    "print(\"The array is\",a)\n",
    "print(\"the mean is\", m)"
   ]
  },
  {
   "cell_type": "markdown",
   "metadata": {
    "id": "8huKUTku6NY3"
   },
   "source": [
    "5. Create a 10X10 array with random values and find the minimum and maximum values."
   ]
  },
  {
   "cell_type": "code",
   "execution_count": 12,
   "metadata": {
    "colab": {
     "base_uri": "https://localhost:8080/"
    },
    "id": "_k6ukVTc6PeB",
    "outputId": "78f1b1fb-f1d8-42fe-aa2e-d912323385bf"
   },
   "outputs": [
    {
     "name": "stdout",
     "output_type": "stream",
     "text": [
      "The array  [[0.6561475  0.83087603 0.30792485 0.81315367 0.92919805 0.23544663\n",
      "  0.50673689 0.6406218  0.46239135 0.76656348]\n",
      " [0.54980375 0.19352085 0.05869016 0.58976111 0.06730125 0.02667194\n",
      "  0.6646693  0.97541321 0.61994528 0.25478876]\n",
      " [0.71381331 0.53560114 0.3655155  0.82686724 0.27437475 0.01554475\n",
      "  0.79014279 0.80300926 0.32815162 0.9966201 ]\n",
      " [0.47493175 0.7695851  0.41850181 0.7446765  0.49271806 0.37258232\n",
      "  0.83658068 0.20137061 0.755209   0.64215873]\n",
      " [0.52239567 0.67963388 0.35259989 0.14681792 0.09287223 0.54728085\n",
      "  0.06325304 0.77840661 0.18273869 0.38039554]\n",
      " [0.83189325 0.88598237 0.53705333 0.28400332 0.71929738 0.49618822\n",
      "  0.12125127 0.76397658 0.31946804 0.49135595]\n",
      " [0.39614935 0.35437733 0.64020643 0.08506973 0.13099069 0.13306568\n",
      "  0.5439412  0.57925878 0.94275101 0.63691116]\n",
      " [0.11565319 0.78368676 0.01622935 0.88766109 0.96424747 0.93098799\n",
      "  0.06865703 0.69615752 0.95208389 0.54719317]\n",
      " [0.58025632 0.9212986  0.88737974 0.84200604 0.08739968 0.93231618\n",
      "  0.04457495 0.51509815 0.11176149 0.60784329]\n",
      " [0.16209711 0.49687946 0.63496323 0.06081676 0.23842351 0.5754263\n",
      "  0.08699929 0.66916199 0.69705274 0.00297326]]\n",
      "The minimum value is 0.0029732595589070376\n",
      "The maximum value is 0.9966201036060487\n"
     ]
    }
   ],
   "source": [
    "import numpy as np\n",
    "\n",
    "a= np.random.random(100).reshape(10,10)\n",
    "minimum=a.min()\n",
    "maximum=a.max()\n",
    "print(\"The array \",a)\n",
    "print(\"The minimum value is\",minimum);\n",
    "print(\"The maximum value is\",maximum);"
   ]
  },
  {
   "cell_type": "markdown",
   "metadata": {
    "id": "f3G7qRGqjEAR"
   },
   "source": [
    "6. Create a zero array of size 10 and replace 5th element with 1."
   ]
  },
  {
   "cell_type": "code",
   "execution_count": 13,
   "metadata": {
    "colab": {
     "base_uri": "https://localhost:8080/"
    },
    "id": "A1tzcjDLjG2L",
    "outputId": "a2d06554-4567-4f7b-f5c4-4da7d875b861"
   },
   "outputs": [
    {
     "name": "stdout",
     "output_type": "stream",
     "text": [
      "[0. 0. 0. 0. 1. 0. 0. 0. 0. 0.]\n"
     ]
    }
   ],
   "source": [
    "import numpy as np\n",
    "arr=np.zeros(10)\n",
    "arr[4]=1\n",
    "print(arr)"
   ]
  },
  {
   "cell_type": "markdown",
   "metadata": {
    "id": "ZyrOQfxllUbg"
   },
   "source": [
    "7. Reverse an array arr = [1,2,0,0,4,0]."
   ]
  },
  {
   "cell_type": "code",
   "execution_count": 14,
   "metadata": {
    "colab": {
     "base_uri": "https://localhost:8080/"
    },
    "id": "y_ehumqklVKr",
    "outputId": "6b28e087-f90e-4ccb-9901-f7e928e9fcea"
   },
   "outputs": [
    {
     "name": "stdout",
     "output_type": "stream",
     "text": [
      "[0, 4, 0, 0, 2, 1]\n"
     ]
    }
   ],
   "source": [
    "arr = [1,2,0,0,4,0]\n",
    "arr1=arr[::-1]\n",
    "print(arr1)"
   ]
  },
  {
   "cell_type": "markdown",
   "metadata": {
    "id": "eK_79V6llwC5"
   },
   "source": [
    "8. Create a 2d array with 1 on border and 0 inside."
   ]
  },
  {
   "cell_type": "code",
   "execution_count": 15,
   "metadata": {
    "colab": {
     "base_uri": "https://localhost:8080/"
    },
    "id": "I4GDK4m3lxVw",
    "outputId": "2676eea8-c2d3-4ad6-e565-546b5eaad6c5"
   },
   "outputs": [
    {
     "name": "stdout",
     "output_type": "stream",
     "text": [
      "[[1. 1. 1. 1. 1.]\n",
      " [1. 0. 0. 0. 1.]\n",
      " [1. 0. 0. 0. 1.]\n",
      " [1. 0. 0. 0. 1.]\n",
      " [1. 1. 1. 1. 1.]]\n"
     ]
    }
   ],
   "source": [
    "import numpy as np\n",
    "\n",
    "arr= np.zeros((5,5))\n",
    "arr[0, :] = 1\n",
    "arr[-1, :] = 1\n",
    "arr[:, 0] = 1\n",
    "arr[:, -1] = 1\n",
    "print(arr)"
   ]
  },
  {
   "cell_type": "markdown",
   "metadata": {
    "id": "Z-5mZUWrnLEA"
   },
   "source": [
    "9. Create a 8X8 matrix and fill it with a checkerboard pattern."
   ]
  },
  {
   "cell_type": "code",
   "execution_count": 16,
   "metadata": {
    "colab": {
     "base_uri": "https://localhost:8080/"
    },
    "id": "aNIAlvFFoSGm",
    "outputId": "fdccc72f-7ccf-40cf-8b0f-1d24fb255b4d"
   },
   "outputs": [
    {
     "data": {
      "text/plain": [
       "array([[0., 1., 0., 1., 0., 1., 0., 1.],\n",
       "       [1., 0., 1., 0., 1., 0., 1., 0.],\n",
       "       [0., 1., 0., 1., 0., 1., 0., 1.],\n",
       "       [1., 0., 1., 0., 1., 0., 1., 0.],\n",
       "       [0., 1., 0., 1., 0., 1., 0., 1.],\n",
       "       [1., 0., 1., 0., 1., 0., 1., 0.],\n",
       "       [0., 1., 0., 1., 0., 1., 0., 1.],\n",
       "       [1., 0., 1., 0., 1., 0., 1., 0.]])"
      ]
     },
     "execution_count": 16,
     "metadata": {},
     "output_type": "execute_result"
    }
   ],
   "source": [
    "import numpy as np\n",
    "\n",
    "arr= np.zeros((8,8))\n",
    "arr[1::2,::2] = 1\n",
    "arr[::2,1::2] = 1\n",
    "arr"
   ]
  },
  {
   "cell_type": "markdown",
   "metadata": {
    "id": "2SnviOUWqmdu"
   },
   "source": [
    "##Problem - 3: Array Operations:"
   ]
  },
  {
   "cell_type": "markdown",
   "metadata": {
    "id": "Z51skJKDq1qD"
   },
   "source": [
    "For the following arrays:\n",
    "\n",
    "x = np.array([[1,2],[3,5]]) and y = np.array([[5,6],[7,8]]);\n",
    "\n",
    "v = np.array([9,10]) and w = np.array([11,12]);\n",
    "\n",
    "Complete all the task using numpy:"
   ]
  },
  {
   "cell_type": "markdown",
   "metadata": {
    "id": "i3TIjGd3rVa1"
   },
   "source": [
    "1. Add the two array.\n",
    "\n",
    "2. Subtract the two array.\n",
    "\n",
    "3. Multiply the array with any integers of your choice.\n",
    "\n",
    "4. Find the square of each element of the array.\n",
    "\n",
    "5. Find the dot product between: v(and)w ; x(and)v ; x(and)y.\n",
    "\n",
    "6. Concatenate x(and)y along row and Concatenate v(and)w along column.\n",
    "{Hint:try np.concatenate() or np.vstack() functions.\n",
    "\n",
    "7. Concatenate x(and)v; if you get an error, observe and explain why did you get the error?"
   ]
  },
  {
   "cell_type": "code",
   "execution_count": 17,
   "metadata": {
    "colab": {
     "base_uri": "https://localhost:8080/"
    },
    "id": "pvCGFgs4q1Pe",
    "outputId": "c3386a19-9764-47be-837f-ef6d6b1a6bc6"
   },
   "outputs": [
    {
     "name": "stdout",
     "output_type": "stream",
     "text": [
      "The addition of x and y : [[ 6  8]\n",
      " [10 13]]\n",
      "The subtraction of x and y : [[-4 -4]\n",
      " [-4 -3]]\n",
      "Multiplication of x by 2: [[ 2  4]\n",
      " [ 6 10]]\n",
      "Square of each element in x: [[ 1  4]\n",
      " [ 9 25]]\n"
     ]
    }
   ],
   "source": [
    "import numpy as np\n",
    "x = np.array([[1,2],[3,5]])\n",
    "y = np.array([[5,6],[7,8]])\n",
    "v = np.array([9,10])\n",
    "w = np.array([11,12])\n",
    "\n",
    "add_xy=x+y\n",
    "print(\"The addition of x and y :\", add_xy)\n",
    "\n",
    "sub_xy=x-y\n",
    "print(\"The subtraction of x and y :\", sub_xy)\n",
    "\n",
    "mul_x = x * 2\n",
    "print(\"Multiplication of x by 2:\", mul_x)\n",
    "\n",
    "square_x = x**2\n",
    "print(\"Square of each element in x:\", square_x)\n",
    "\n"
   ]
  },
  {
   "cell_type": "code",
   "execution_count": 18,
   "metadata": {
    "colab": {
     "base_uri": "https://localhost:8080/"
    },
    "id": "5N0bGViywQ3z",
    "outputId": "05133a59-0c25-43aa-ade9-828a0d89fc98"
   },
   "outputs": [
    {
     "name": "stdout",
     "output_type": "stream",
     "text": [
      "Dot product of v and w: 219\n",
      "Dot product of x and v: [29 77]\n",
      "Dot product of x and y: [[19 22]\n",
      " [50 58]]\n"
     ]
    }
   ],
   "source": [
    "dot_vw = np.dot(v, w)\n",
    "print(\"Dot product of v and w:\", dot_vw)\n",
    "dot_xv = np.dot(x, v)\n",
    "print(\"Dot product of x and v:\", dot_xv)\n",
    "dot_xy = np.dot(x, y)\n",
    "print(\"Dot product of x and y:\", dot_xy)"
   ]
  },
  {
   "cell_type": "code",
   "execution_count": 19,
   "metadata": {
    "colab": {
     "base_uri": "https://localhost:8080/"
    },
    "id": "KdMaYAcfNL8q",
    "outputId": "b78a7f3c-595c-4f0f-8ffa-0b026083b266"
   },
   "outputs": [
    {
     "name": "stdout",
     "output_type": "stream",
     "text": [
      "Concatenate x and y along rows: [[1 2]\n",
      " [3 5]\n",
      " [5 6]\n",
      " [7 8]]\n",
      "Concatenate v and w along columns: [[ 9 10]\n",
      " [11 12]]\n"
     ]
    }
   ],
   "source": [
    "concat_xy_row = np.concatenate((x, y), axis=0)\n",
    "concat_vw_col = np.vstack((v, w))\n",
    "print(\"Concatenate x and y along rows:\", concat_xy_row)\n",
    "print(\"Concatenate v and w along columns:\", concat_vw_col)"
   ]
  },
  {
   "cell_type": "code",
   "execution_count": null,
   "metadata": {
    "id": "uwkJbi3mNcsL"
   },
   "outputs": [],
   "source": [
    "#concat_xv_row = np.concatenate((x, v), axis=0)\n",
    "#print(concat_xv_row)\n",
    "#concat_xv_column= np.concatenate((x, v), axis=1)\n",
    "#print(concat_xv_column)"
   ]
  },
  {
   "cell_type": "markdown",
   "metadata": {
    "id": "-8N6gV6aNzqi"
   },
   "source": [
    "ValueError: all the input arrays must have same number of dimensions, but the array at index 0 has 2 dimension(s) and the array at index 1 has 1 dimension(s)"
   ]
  },
  {
   "cell_type": "markdown",
   "metadata": {
    "id": "_ikXCBOzzDIx"
   },
   "source": [
    "##Problem - 4: Matrix Operations:"
   ]
  },
  {
   "cell_type": "markdown",
   "metadata": {
    "id": "ZkQD-ePKO2ln"
   },
   "source": [
    "For the following arrays:\n",
    "\n",
    "\n",
    "A = np.array([[3,4],[7,8]])\n",
    "\n",
    "and\n",
    "\n",
    "B = np.array([[5,3],[2,1]]);\n",
    "\n",
    "Prove following with Numpy:\n",
    "\n",
    "1. Prove A.(A)^−1 = I.\n",
    "2. Prove AB ̸= BA.\n",
    "3. Prove (AB)^T = B^T*A^T.\n"
   ]
  },
  {
   "cell_type": "code",
   "execution_count": 23,
   "metadata": {
    "colab": {
     "base_uri": "https://localhost:8080/"
    },
    "id": "ARKIc-eNQNr-",
    "outputId": "c832c568-54a2-4d53-96a7-112ca4644efb"
   },
   "outputs": [
    {
     "name": "stdout",
     "output_type": "stream",
     "text": [
      "A*A^-1=I:\n",
      " [[1.00000000e+00 0.00000000e+00]\n",
      " [1.77635684e-15 1.00000000e+00]]\n",
      "AB is not equals to BA True\n",
      "(AB)^T =B^T *A^T: True\n"
     ]
    }
   ],
   "source": [
    "import numpy as np\n",
    "\n",
    "A = np.array([[3, 4], [7, 8]])\n",
    "B = np.array([[5, 3], [2, 1]])\n",
    "#1\n",
    "A_inv = np.linalg.inv(A)\n",
    "identity_matrix=np.dot(A,A_inv)\n",
    "print(\"A*A^-1=I:\\n\" , identity_matrix)\n",
    "\n",
    "#2.\n",
    "AB=np.dot(A,B)\n",
    "BA=np.dot(B,A)\n",
    "AB_BA = not np.array_equal(AB,BA)\n",
    "print(\"AB is not equals to BA\",AB_BA)\n",
    "\n",
    "#3\n",
    "AB_T =np.transpose(AB)\n",
    "BT_AT =np.dot(np.transpose(B),np.transpose(A))\n",
    "AB_T_BT_AT=np.array_equal(AB_T,BT_AT)\n",
    "print( \"(AB)^T =B^T *A^T:\",AB_T_BT_AT )\n"
   ]
  },
  {
   "cell_type": "code",
   "execution_count": 24,
   "metadata": {
    "colab": {
     "base_uri": "https://localhost:8080/"
    },
    "id": "dkHau8__eQXS",
    "outputId": "ba0bacb5-38b7-4eec-ca29-8fbf3172b64b"
   },
   "outputs": [
    {
     "name": "stdout",
     "output_type": "stream",
     "text": [
      "\n",
      "Solution of the system of linear equations:\n",
      " [ 2.  1. -2.]\n"
     ]
    }
   ],
   "source": [
    "coefficients = np.array([[2, -3, 1], [1, -1, 2], [3, 1, -1]])\n",
    "constants = np.array([-1, -3, 9])\n",
    "\n",
    "# Solving using np.linalg.inv\n",
    "solution = np.dot(np.linalg.inv(coefficients), constants)\n",
    "print(\"\\nSolution of the system of linear equations:\\n\", solution)"
   ]
  }
 ],
 "metadata": {
  "colab": {
   "provenance": []
  },
  "kernelspec": {
   "display_name": "Python 3",
   "name": "python3"
  },
  "language_info": {
   "name": "python"
  }
 },
 "nbformat": 4,
 "nbformat_minor": 0
}
