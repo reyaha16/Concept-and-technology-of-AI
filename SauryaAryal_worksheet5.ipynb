{
  "nbformat": 4,
  "nbformat_minor": 0,
  "metadata": {
    "colab": {
      "provenance": []
    },
    "kernelspec": {
      "name": "python3",
      "display_name": "Python 3"
    },
    "language_info": {
      "name": "python"
    }
  },
  "cells": [
    {
      "cell_type": "code",
      "execution_count": 6,
      "metadata": {
        "id": "ubbs05I348fG"
      },
      "outputs": [],
      "source": [
        "# Import necessary libraries\n",
        "import pandas as pd\n",
        "import numpy as np\n",
        "import matplotlib.pyplot as plt\n",
        "\n"
      ]
    },
    {
      "cell_type": "code",
      "source": [
        "# Step 1.1: Load the dataset\n",
        "data = pd.read_csv('/content/drive/MyDrive/Concept of AI/student.csv')\n"
      ],
      "metadata": {
        "id": "ydcJwQFVAIFh"
      },
      "execution_count": 7,
      "outputs": []
    },
    {
      "cell_type": "code",
      "source": [
        "# Step 1.2: Understand the data\n",
        "# First and last 5 rows\n",
        "print(\"First 5 rows of the dataset:\")\n",
        "print(data.head())\n",
        "\n",
        "print(\"\\nLast 5 rows of the dataset:\")\n",
        "print(data.tail())\n",
        "\n",
        "# Dataset info\n",
        "print(\"\\nDataset Info:\")\n",
        "print(data.info())\n",
        "\n",
        "# Descriptive statistics\n",
        "print(\"\\nDescriptive Statistics:\")\n",
        "print(data.describe())\n"
      ],
      "metadata": {
        "colab": {
          "base_uri": "https://localhost:8080/",
          "height": 0
        },
        "id": "L9g_YrOhAPL0",
        "outputId": "dd2295c4-9e75-4643-d205-6ba65b75057b"
      },
      "execution_count": 8,
      "outputs": [
        {
          "output_type": "stream",
          "name": "stdout",
          "text": [
            "First 5 rows of the dataset:\n",
            "   Math  Reading  Writing\n",
            "0    48       68       63\n",
            "1    62       81       72\n",
            "2    79       80       78\n",
            "3    76       83       79\n",
            "4    59       64       62\n",
            "\n",
            "Last 5 rows of the dataset:\n",
            "     Math  Reading  Writing\n",
            "995    72       74       70\n",
            "996    73       86       90\n",
            "997    89       87       94\n",
            "998    83       82       78\n",
            "999    66       66       72\n",
            "\n",
            "Dataset Info:\n",
            "<class 'pandas.core.frame.DataFrame'>\n",
            "RangeIndex: 1000 entries, 0 to 999\n",
            "Data columns (total 3 columns):\n",
            " #   Column   Non-Null Count  Dtype\n",
            "---  ------   --------------  -----\n",
            " 0   Math     1000 non-null   int64\n",
            " 1   Reading  1000 non-null   int64\n",
            " 2   Writing  1000 non-null   int64\n",
            "dtypes: int64(3)\n",
            "memory usage: 23.6 KB\n",
            "None\n",
            "\n",
            "Descriptive Statistics:\n",
            "              Math      Reading      Writing\n",
            "count  1000.000000  1000.000000  1000.000000\n",
            "mean     67.290000    69.872000    68.616000\n",
            "std      15.085008    14.657027    15.241287\n",
            "min      13.000000    19.000000    14.000000\n",
            "25%      58.000000    60.750000    58.000000\n",
            "50%      68.000000    70.000000    69.500000\n",
            "75%      78.000000    81.000000    79.000000\n",
            "max     100.000000   100.000000   100.000000\n"
          ]
        }
      ]
    },
    {
      "cell_type": "code",
      "source": [
        "#Step 1.3: Split Dataset into Features (X) and Target (Y)\n",
        "# Features and target\n",
        "X = data[['Math', 'Reading']].values\n",
        "Y = data['Writing'].values\n",
        "\n",
        "print(\"Shape of X:\", X.shape)\n",
        "print(\"Shape of Y:\", Y.shape)\n"
      ],
      "metadata": {
        "colab": {
          "base_uri": "https://localhost:8080/",
          "height": 0
        },
        "id": "4Iq2z6zbAV1D",
        "outputId": "6363b66e-73e8-479d-cdd5-1beb786dbf3a"
      },
      "execution_count": 11,
      "outputs": [
        {
          "output_type": "stream",
          "name": "stdout",
          "text": [
            "Shape of X: (1000, 2)\n",
            "Shape of Y: (1000,)\n"
          ]
        }
      ]
    },
    {
      "cell_type": "code",
      "source": [
        "from sklearn.model_selection import train_test_split\n",
        "\n",
        "# Split the dataset\n",
        "X_train, X_test, Y_train, Y_test = train_test_split(X, Y, test_size=0.2, random_state=42)\n",
        "\n",
        "# Confirm split sizes\n",
        "print(\"Training set size:\", X_train.shape, Y_train.shape)\n",
        "print(\"Test set size:\", X_test.shape, Y_test.shape)\n"
      ],
      "metadata": {
        "colab": {
          "base_uri": "https://localhost:8080/",
          "height": 0
        },
        "id": "9EdbE-eYBXE3",
        "outputId": "ee2d69d2-ea2d-4752-ff6b-cdc3264d9200"
      },
      "execution_count": 16,
      "outputs": [
        {
          "output_type": "stream",
          "name": "stdout",
          "text": [
            "Training set size: (800, 2) (800,)\n",
            "Test set size: (200, 2) (200,)\n"
          ]
        }
      ]
    },
    {
      "cell_type": "code",
      "source": [
        "# Define the cost function\n",
        "def cost_function(X, Y, W):\n",
        "    \"\"\"\n",
        "    Calculate the Mean Squared Error (MSE) cost function.\n",
        "\n",
        "    Parameters:\n",
        "    X: Feature matrix (numpy.ndarray)\n",
        "    Y: Target vector (numpy.ndarray)\n",
        "    W: Weight vector (numpy.ndarray)\n",
        "\n",
        "    Returns:\n",
        "    cost: Mean Squared Error value\n",
        "    \"\"\"\n",
        "    # Number of samples\n",
        "    n = len(Y)\n",
        "\n",
        "    # Predicted values\n",
        "    Y_pred = np.dot(X, W)\n",
        "\n",
        "    # Mean Squared Error\n",
        "    cost = (1 / (2 * n)) * np.sum((Y_pred - Y) ** 2)\n",
        "    return cost\n",
        "\n",
        "# Example Test Case\n",
        "# Feature matrix (2 features + bias column for intercept)\n",
        "X_test = np.array([[1, 2], [3, 4], [5, 6]])  # Example features\n",
        "Y_test = np.array([3, 7, 11])  # Example targets\n",
        "W_test = np.array([1, 1])  # Example weights\n",
        "\n",
        "# Calculate cost\n",
        "cost = cost_function(X_test, Y_test, W_test)\n",
        "print(\"Cost function output:\", cost)\n",
        "\n",
        "# Verify expected output (should be 0 for this test case)\n",
        "if cost == 0:\n",
        "    print(\"Cost function is correct. Proceed further.\")\n",
        "else:\n",
        "    print(\"Something went wrong. Recheck your implementation.\")"
      ],
      "metadata": {
        "colab": {
          "base_uri": "https://localhost:8080/",
          "height": 0
        },
        "id": "Ce8LjBHG7zQ8",
        "outputId": "6a76df77-c4a2-4b94-ec8e-00acfeed60c5"
      },
      "execution_count": 12,
      "outputs": [
        {
          "output_type": "stream",
          "name": "stdout",
          "text": [
            "Cost function output: 0.0\n",
            "Cost function is correct. Proceed further.\n"
          ]
        }
      ]
    },
    {
      "cell_type": "code",
      "source": [
        "def gradient_descent(X, Y, W, alpha, iterations):\n",
        "    \"\"\"\n",
        "    Perform gradient descent to optimize the parameters of a linear regression model.\n",
        "    Parameters:\n",
        "    X (numpy.ndarray): Feature matrix (m x n)\n",
        "    Y (numpy.ndarray): Target vector (m x 1)\n",
        "    W (numpy.ndarray): Initial weights (n x 1)\n",
        "    alpha (float): Learning rate\n",
        "    iterations (int): Number of iterations for gradient descent\n",
        "    Returns:\n",
        "    W: Updated weights (numpy.ndarray)\n",
        "    cost_history: List of cost values over iterations\n",
        "    \"\"\"\n",
        "    n = len(Y)  # Number of samples\n",
        "    cost_history = []  # To store the cost at each iteration\n",
        "\n",
        "    for _ in range(iterations):\n",
        "        # Step 1: Calculate predictions\n",
        "        Y_pred = np.dot(X, W)\n",
        "\n",
        "        # Step 2: Calculate the loss\n",
        "        loss = Y_pred - Y\n",
        "\n",
        "        # Step 3: Compute the gradient\n",
        "        gradient = (1 / n) * np.dot(X.T, loss)\n",
        "\n",
        "        # Step 4: Update weights\n",
        "        W -= alpha * gradient\n",
        "\n",
        "        # Step 5: Calculate and record the cost\n",
        "        cost = cost_function(X, Y, W)\n",
        "        cost_history.append(cost)\n",
        "\n",
        "    return W, cost_history\n"
      ],
      "metadata": {
        "id": "A9eFL07n_5Vs"
      },
      "execution_count": 13,
      "outputs": []
    },
    {
      "cell_type": "code",
      "source": [
        "# Example data\n",
        "np.random.seed(42)  # For reproducibility\n",
        "X_test = np.random.rand(100, 2)  # 100 samples, 2 features\n",
        "Y_test = np.random.rand(100)  # Target values\n",
        "W_test = np.zeros(X_test.shape[1])  # Initialize weights to zeros\n",
        "\n",
        "# Gradient Descent Parameters\n",
        "alpha = 0.01  # Learning rate\n",
        "iterations = 1000  # Number of iterations\n",
        "\n",
        "# Perform Gradient Descent\n",
        "W_optimized, cost_history = gradient_descent(X_test, Y_test, W_test, alpha, iterations)\n",
        "\n",
        "# Output results\n",
        "print(\"Optimized Weights:\", W_optimized)\n",
        "print(\"First 10 Costs:\", cost_history[:10])\n"
      ],
      "metadata": {
        "colab": {
          "base_uri": "https://localhost:8080/",
          "height": 0
        },
        "id": "3asnEK1rA5V8",
        "outputId": "a2ce0e04-9466-48f7-9612-6669b84d66f4"
      },
      "execution_count": 14,
      "outputs": [
        {
          "output_type": "stream",
          "name": "stdout",
          "text": [
            "Optimized Weights: [0.44944301 0.44505777]\n",
            "First 10 Costs: [0.17535009737483023, 0.1741391153521301, 0.17294146083870834, 0.17175698715812832, 0.17058554924820693, 0.16942700364324886, 0.1682812084564762, 0.16714802336265158, 0.16602730958089285, 0.1649189298576766]\n"
          ]
        }
      ]
    },
    {
      "cell_type": "code",
      "source": [
        "def rmse(Y, Y_pred):\n",
        "    \"\"\"\n",
        "    Calculate Root Mean Square Error.\n",
        "    \"\"\"\n",
        "    return np.sqrt(np.mean((Y - Y_pred) ** 2))\n",
        "\n",
        "def r2(Y, Y_pred):\n",
        "    \"\"\"\n",
        "    Calculate R-squared (Coefficient of Determination).\n",
        "    \"\"\"\n",
        "    ss_tot = np.sum((Y - np.mean(Y)) ** 2)  # Total Sum of Squares\n",
        "    ss_res = np.sum((Y - Y_pred) ** 2)      # Residual Sum of Squares\n",
        "    return 1 - (ss_res / ss_tot)\n",
        "\n"
      ],
      "metadata": {
        "id": "iVjz5gGU_7o7"
      },
      "execution_count": 14,
      "outputs": []
    },
    {
      "cell_type": "code",
      "source": [
        "# Example predictions (replace with your model's predictions)\n",
        "Y_train_pred = np.dot(X_train, W_optimized)\n",
        "Y_test_pred = np.dot(X_test, W_optimized)\n",
        "\n",
        "# Define rmse function before using it.\n",
        "def rmse(Y, Y_pred):\n",
        "    \"\"\"\n",
        "    Calculate Root Mean Square Error.\n",
        "    \"\"\"\n",
        "    return np.sqrt(np.mean((Y - Y_pred) ** 2))\n",
        "\n",
        "def r2(Y, Y_pred):\n",
        "    \"\"\"\n",
        "    Calculate R-squared (Coefficient of Determination).\n",
        "    \"\"\"\n",
        "    ss_tot = np.sum((Y - np.mean(Y)) ** 2)  # Total Sum of Squares\n",
        "    ss_res = np.sum((Y - Y_pred) ** 2)      # Residual Sum of Squares\n",
        "    return 1 - (ss_res / ss_tot)\n",
        "\n",
        "# Calculate RMSE and R² for training and test sets\n",
        "print(\"Training RMSE:\", rmse(Y_train, Y_train_pred))\n",
        "print(\"Test RMSE:\", rmse(Y_test, Y_test_pred))\n",
        "\n",
        "print(\"Training R²:\", r2(Y_train, Y_train_pred))\n",
        "print(\"Test R²:\", r2(Y_test, Y_test_pred))"
      ],
      "metadata": {
        "colab": {
          "base_uri": "https://localhost:8080/",
          "height": 0
        },
        "id": "DtM4iEI1BDv7",
        "outputId": "36d9712a-c056-404c-ead1-c846e165bd4f"
      },
      "execution_count": 18,
      "outputs": [
        {
          "output_type": "stream",
          "name": "stdout",
          "text": [
            "Training RMSE: 9.468227686637444\n",
            "Test RMSE: 9.595683828652112\n",
            "Training R²: 0.6059202168535917\n",
            "Test R²: 0.6321591538621264\n"
          ]
        }
      ]
    },
    {
      "cell_type": "code",
      "source": [
        "def main():\n",
        "    # Step 1: Load the dataset\n",
        "    data = pd.read_csv('/content/drive/MyDrive/Concept of AI/student.csv')\n",
        "\n",
        "    # Step 2: Split data into features (X) and target (Y)\n",
        "    X = data[['Math', 'Reading']].values\n",
        "    Y = data['Writing'].values\n",
        "\n",
        "    # Step 3: Split data into training and test sets\n",
        "    from sklearn.model_selection import train_test_split\n",
        "    X_train, X_test, Y_train, Y_test = train_test_split(X, Y, test_size=0.2, random_state=42)\n",
        "\n",
        "    # Step 4: Initialize weights, learning rate, and iterations\n",
        "    W = np.zeros(X_train.shape[1])  # Initialize weights to zeros\n",
        "    alpha = 0.01  # Learning rate\n",
        "    iterations = 1000  # Number of iterations\n",
        "\n",
        "    # Step 5: Perform gradient descent\n",
        "    W_optimized, cost_history = gradient_descent(X_train, Y_train, W, alpha, iterations)\n",
        "\n",
        "    # Step 6: Make predictions on training and test sets\n",
        "    Y_train_pred = np.dot(X_train, W_optimized)\n",
        "    Y_test_pred = np.dot(X_test, W_optimized)\n",
        "\n",
        "    # Step 7: Evaluate the model using RMSE and R²\n",
        "    train_rmse = rmse(Y_train, Y_train_pred)\n",
        "    test_rmse = rmse(Y_test, Y_test_pred)\n",
        "    train_r2 = r2(Y_train, Y_train_pred)\n",
        "    test_r2 = r2(Y_test, Y_test_pred)\n",
        "\n",
        "    # Step 8: Output results\n",
        "    print(\"Final Weights:\", W_optimized)\n",
        "    print(\"Training RMSE:\", train_rmse)\n",
        "    print(\"Test RMSE:\", test_rmse)\n",
        "    print(\"Training R²:\", train_r2)\n",
        "    print(\"Test R²:\", test_r2)\n",
        "\n",
        "# Execute the main function\n",
        "if __name__ == \"__main__\":\n",
        "    main()\n"
      ],
      "metadata": {
        "colab": {
          "base_uri": "https://localhost:8080/",
          "height": 0
        },
        "id": "dhwLK9J-CESS",
        "outputId": "61cfc4f8-b345-4a72-d29c-3321307ad967"
      },
      "execution_count": 22,
      "outputs": [
        {
          "output_type": "stream",
          "name": "stdout",
          "text": [
            "Final Weights: [nan nan]\n",
            "Training RMSE: nan\n",
            "Test RMSE: nan\n",
            "Training R²: nan\n",
            "Test R²: nan\n"
          ]
        },
        {
          "output_type": "stream",
          "name": "stderr",
          "text": [
            "/usr/local/lib/python3.10/dist-packages/numpy/core/fromnumeric.py:88: RuntimeWarning: overflow encountered in reduce\n",
            "  return ufunc.reduce(obj, axis, dtype, out, **passkwargs)\n",
            "<ipython-input-12-d0f14d5cdca6>:21: RuntimeWarning: overflow encountered in square\n",
            "  cost = (1 / (2 * n)) * np.sum((Y_pred - Y) ** 2)\n",
            "<ipython-input-13-9d782c874ba1>:28: RuntimeWarning: invalid value encountered in subtract\n",
            "  W -= alpha * gradient\n"
          ]
        }
      ]
    },
    {
      "cell_type": "code",
      "source": [
        "import matplotlib.pyplot as plt\n",
        "\n",
        "plt.plot(range(len(cost_history)), cost_history)\n",
        "plt.xlabel('Iterations')\n",
        "plt.ylabel('Cost')\n",
        "plt.title('Cost Reduction Over Iterations')\n",
        "plt.show()\n"
      ],
      "metadata": {
        "colab": {
          "base_uri": "https://localhost:8080/",
          "height": 472
        },
        "id": "35F316XWCPaf",
        "outputId": "4125a6f5-6269-4408-bfdf-2815014d8008"
      },
      "execution_count": 23,
      "outputs": [
        {
          "output_type": "display_data",
          "data": {
            "text/plain": [
              "<Figure size 640x480 with 1 Axes>"
            ],
            "image/png": "[encoded data removed]"
          },
          "metadata": {}
        }
      ]
    }
  ]
}